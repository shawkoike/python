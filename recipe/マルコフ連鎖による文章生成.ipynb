{
 "cells": [
  {
   "cell_type": "markdown",
   "id": "e8e2b18b",
   "metadata": {},
   "source": [
    "### 概要\n",
    "\n",
    "文章生成アルゴリズムの中で一般的なものの１つがマルコフ連鎖です。\n",
    "\n",
    "データセットとして以下のような２つの文章があるとします。\n",
    "\n",
    "・私　は　Axross　で　機械学習　の　勉強　を　します。     \n",
    "・君　は　機械学習　の　エンジニア　を　目指して　います。\n",
    "\n",
    "２つの文章には、助詞としての「は」と「の」と「を」が含まれるという共通点があります。それぞれの共通の助詞の地点でその先の単語をもう片方の文章のものと組み替えていくと、以下のような新規の文章を生成することができます。\n",
    "\n",
    "・私は機械学習の勉強をします     \n",
    "・君はAxrossで機械学習のエンジニアを目指しています\n",
    "\n",
    "例の２つの文章から生成される文章は数パターンですが、データセットとして与える文章量を増やすことで生成される文章はより複雑なものになり、そのパターン数も増えていきます。これがマルコフ連鎖の仕組みになります。\n",
    "\n",
    "このようにマルコフ連鎖は各要素から各要素への遷移過程をモデル化することができるので、Google検索のアルゴリズムであるPageRankにも使われています。リンクとWebページのネットワークという関係にこれを適応することで、ユーザーがWeb上でどのようにページ遷移するのかをモデル化することもできます。\n",
    "\n",
    "今回のレシピではマルコフ連鎖で文章生成をするPythonライブラリであるMarkovifyを使って、夏目漱石の「坊ちゃん」をデータセットとして新作の文章を生成するプログラムを解説します。"
   ]
  },
  {
   "cell_type": "code",
   "execution_count": 19,
   "id": "97eadf3c",
   "metadata": {},
   "outputs": [],
   "source": [
    "from janome.tokenizer import Tokenizer\n",
    "import markovify"
   ]
  },
  {
   "cell_type": "code",
   "execution_count": 31,
   "id": "db9fa099",
   "metadata": {},
   "outputs": [],
   "source": [
    "def text_cleansing(text):\n",
    "    # 改行、スペース、問題を起こす文字の置換\n",
    "    table = str.maketrans({\n",
    "        '。': '.',\n",
    "        '\\n': '',\n",
    "        '\\r': '',\n",
    "        '…': '',\n",
    "        '、': '',\n",
    "        '々': '',\n",
    "        '「': '',\n",
    "        '」': '.',\n",
    "        '(': '（',\n",
    "        ')': '）',\n",
    "        '[': '［',\n",
    "        ']': '］',\n",
    "        '\"': '”',\n",
    "        \"'\": \"’\",\n",
    "    })\n",
    "    text = text.translate(table)\n",
    "    t = Tokenizer()\n",
    "    # 分かち書き\n",
    "    result = t.tokenize(text, wakati=True)\n",
    "    result = list(result)\n",
    "    # 1単語毎に間に半角スペース、文末には改行を挿入\n",
    "    splitted_text = \"\"\n",
    "    for i in range(len(result)):\n",
    "        splitted_text += result[i]\n",
    "        if result[i] != '。' and result[i] != '！' and result[i] != '？':\n",
    "            splitted_text += ' '\n",
    "        else:\n",
    "            splitted_text += '\\n'\n",
    "    return splitted_text"
   ]
  },
  {
   "cell_type": "code",
   "execution_count": 32,
   "id": "e2eadd15",
   "metadata": {},
   "outputs": [],
   "source": [
    "with open('./data/bocchan.txt', mode='r', encoding='shift_jis') as f:\n",
    "    text = f.read()\n",
    "    \n",
    "# テキストを単語毎に分割して記号を除去\n",
    "splitted_text = text_cleansing(text)"
   ]
  },
  {
   "cell_type": "markdown",
   "id": "28100f88",
   "metadata": {},
   "source": [
    "マルコフ連鎖とは、ある単語の後にどのような単語が続くかを直前の単語をもとに決定することです。\n",
    "\n",
    "１階マルコフ連鎖では、直前の１単語をキーとして次の単語をデータセットから探索して決めます。      \n",
    "今回使用するのは2階マルコフ連鎖と言って、このキーが直前の２単語となっており上記と比較して単語を決定する条件が絞られるため、より意味のある文章を生成できるモデルとなります。\n",
    "\n",
    "state_size は、マルコフ連鎖の階数になります。     \n",
    "ここでは markovify.NewlineText は、状態サイズ：'2'（＝2階マルコフ連鎖）としてモデルを生成します。     \n",
    "いくつ前の単語までをもととするか、その数（＝階層）を増減させることにより、探索する単語を制御することができます。\n",
    "\n",
    "make_sentence メソッドは通常1回の呼び出しあたり最大10回まで、元のテキストと重複しないような文章の作成を試みます。成功した場合は、このメソッドは文を文字列として返します。成功しなかった場合は、None を返します。None が返る可能性があるために、成功するまで（文章が生成されて返るまで）while文でループさせています。"
   ]
  },
  {
   "cell_type": "code",
   "execution_count": 33,
   "id": "f4d98e46",
   "metadata": {},
   "outputs": [
    {
     "name": "stdout",
     "output_type": "stream",
     "text": [
      "――面白いいかさま面白い.――さあ飲みたまえ.いかさま師をうんと云うほど酔わしてある奴はなんこを攫《つか》えるからな.それが赤シャツに挨拶をしたがそれから？\n"
     ]
    }
   ],
   "source": [
    "# データセットの量が不足していると確率で None が返却されるため、生成結果が変えるまでループさせる\n",
    "sentence = None\n",
    "\n",
    "while sentence == None:\n",
    "    # モデル生成\n",
    "    text_model = markovify.NewlineText(splitted_text, state_size=2)\n",
    "    # モデルから文章を生成\n",
    "    sentence = text_model.make_sentence(tries=100)\n",
    "\n",
    "print(sentence.replace(' ', ''))"
   ]
  },
  {
   "cell_type": "code",
   "execution_count": null,
   "id": "83789d93",
   "metadata": {},
   "outputs": [],
   "source": []
  },
  {
   "cell_type": "code",
   "execution_count": null,
   "id": "fd856061",
   "metadata": {},
   "outputs": [],
   "source": []
  }
 ],
 "metadata": {
  "kernelspec": {
   "display_name": "Python 3",
   "language": "python",
   "name": "python3"
  },
  "language_info": {
   "codemirror_mode": {
    "name": "ipython",
    "version": 3
   },
   "file_extension": ".py",
   "mimetype": "text/x-python",
   "name": "python",
   "nbconvert_exporter": "python",
   "pygments_lexer": "ipython3",
   "version": "3.8.2"
  }
 },
 "nbformat": 4,
 "nbformat_minor": 5
}
