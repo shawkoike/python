{
 "cells": [
  {
   "cell_type": "markdown",
   "id": "04b32419",
   "metadata": {},
   "source": [
    "### 使用するデータ\n",
    "\n",
    "- u.data：ユーザがつけた評価の一覧\n",
    "- u.item：各映画のデータ、idとタイトルの対応"
   ]
  },
  {
   "cell_type": "code",
   "execution_count": 1,
   "id": "3dc66e2b",
   "metadata": {},
   "outputs": [],
   "source": [
    "import pandas as pd\n",
    "from datetime import datetime"
   ]
  },
  {
   "cell_type": "code",
   "execution_count": 2,
   "id": "8cf761cf",
   "metadata": {},
   "outputs": [],
   "source": [
    "df_data = pd.read_csv(\"data/u.data\", sep=\"\\t\", header=None,\n",
    "                      names=[\"user_id\", \"movie_id\", \"rating\", \"timestamp\"],\n",
    "                      parse_dates=[3], date_parser=lambda x: datetime.fromtimestamp(int(x)))\n",
    "\n",
    "df_item = pd.read_csv(\"data/u.item\", sep=\"|\", header=None,\n",
    "                     names=[\"movie_id\", \"movie_title\", \"release_date\"],\n",
    "                     usecols=[0, 1, 2], parse_dates=[2], index_col=0)"
   ]
  },
  {
   "cell_type": "code",
   "execution_count": 3,
   "id": "f99113e6",
   "metadata": {},
   "outputs": [
    {
     "data": {
      "text/html": [
       "<div>\n",
       "<style scoped>\n",
       "    .dataframe tbody tr th:only-of-type {\n",
       "        vertical-align: middle;\n",
       "    }\n",
       "\n",
       "    .dataframe tbody tr th {\n",
       "        vertical-align: top;\n",
       "    }\n",
       "\n",
       "    .dataframe thead th {\n",
       "        text-align: right;\n",
       "    }\n",
       "</style>\n",
       "<table border=\"1\" class=\"dataframe\">\n",
       "  <thead>\n",
       "    <tr style=\"text-align: right;\">\n",
       "      <th></th>\n",
       "      <th>user_id</th>\n",
       "      <th>movie_id</th>\n",
       "      <th>rating</th>\n",
       "      <th>timestamp</th>\n",
       "    </tr>\n",
       "  </thead>\n",
       "  <tbody>\n",
       "    <tr>\n",
       "      <th>0</th>\n",
       "      <td>196</td>\n",
       "      <td>242</td>\n",
       "      <td>3</td>\n",
       "      <td>1997-12-05 00:55:49</td>\n",
       "    </tr>\n",
       "    <tr>\n",
       "      <th>1</th>\n",
       "      <td>186</td>\n",
       "      <td>302</td>\n",
       "      <td>3</td>\n",
       "      <td>1998-04-05 04:22:22</td>\n",
       "    </tr>\n",
       "    <tr>\n",
       "      <th>2</th>\n",
       "      <td>22</td>\n",
       "      <td>377</td>\n",
       "      <td>1</td>\n",
       "      <td>1997-11-07 16:18:36</td>\n",
       "    </tr>\n",
       "    <tr>\n",
       "      <th>3</th>\n",
       "      <td>244</td>\n",
       "      <td>51</td>\n",
       "      <td>2</td>\n",
       "      <td>1997-11-27 14:02:03</td>\n",
       "    </tr>\n",
       "    <tr>\n",
       "      <th>4</th>\n",
       "      <td>166</td>\n",
       "      <td>346</td>\n",
       "      <td>1</td>\n",
       "      <td>1998-02-02 14:33:16</td>\n",
       "    </tr>\n",
       "  </tbody>\n",
       "</table>\n",
       "</div>"
      ],
      "text/plain": [
       "   user_id  movie_id  rating           timestamp\n",
       "0      196       242       3 1997-12-05 00:55:49\n",
       "1      186       302       3 1998-04-05 04:22:22\n",
       "2       22       377       1 1997-11-07 16:18:36\n",
       "3      244        51       2 1997-11-27 14:02:03\n",
       "4      166       346       1 1998-02-02 14:33:16"
      ]
     },
     "execution_count": 3,
     "metadata": {},
     "output_type": "execute_result"
    }
   ],
   "source": [
    "df_data.head()"
   ]
  },
  {
   "cell_type": "code",
   "execution_count": 4,
   "id": "7f52bad0",
   "metadata": {},
   "outputs": [
    {
     "data": {
      "text/html": [
       "<div>\n",
       "<style scoped>\n",
       "    .dataframe tbody tr th:only-of-type {\n",
       "        vertical-align: middle;\n",
       "    }\n",
       "\n",
       "    .dataframe tbody tr th {\n",
       "        vertical-align: top;\n",
       "    }\n",
       "\n",
       "    .dataframe thead th {\n",
       "        text-align: right;\n",
       "    }\n",
       "</style>\n",
       "<table border=\"1\" class=\"dataframe\">\n",
       "  <thead>\n",
       "    <tr style=\"text-align: right;\">\n",
       "      <th></th>\n",
       "      <th>movie_title</th>\n",
       "      <th>release_date</th>\n",
       "    </tr>\n",
       "    <tr>\n",
       "      <th>movie_id</th>\n",
       "      <th></th>\n",
       "      <th></th>\n",
       "    </tr>\n",
       "  </thead>\n",
       "  <tbody>\n",
       "    <tr>\n",
       "      <th>1</th>\n",
       "      <td>Toy Story (1995)</td>\n",
       "      <td>1995-01-01</td>\n",
       "    </tr>\n",
       "    <tr>\n",
       "      <th>2</th>\n",
       "      <td>GoldenEye (1995)</td>\n",
       "      <td>1995-01-01</td>\n",
       "    </tr>\n",
       "    <tr>\n",
       "      <th>3</th>\n",
       "      <td>Four Rooms (1995)</td>\n",
       "      <td>1995-01-01</td>\n",
       "    </tr>\n",
       "    <tr>\n",
       "      <th>4</th>\n",
       "      <td>Get Shorty (1995)</td>\n",
       "      <td>1995-01-01</td>\n",
       "    </tr>\n",
       "    <tr>\n",
       "      <th>5</th>\n",
       "      <td>Copycat (1995)</td>\n",
       "      <td>1995-01-01</td>\n",
       "    </tr>\n",
       "  </tbody>\n",
       "</table>\n",
       "</div>"
      ],
      "text/plain": [
       "                movie_title release_date\n",
       "movie_id                                \n",
       "1          Toy Story (1995)   1995-01-01\n",
       "2          GoldenEye (1995)   1995-01-01\n",
       "3         Four Rooms (1995)   1995-01-01\n",
       "4         Get Shorty (1995)   1995-01-01\n",
       "5            Copycat (1995)   1995-01-01"
      ]
     },
     "execution_count": 4,
     "metadata": {},
     "output_type": "execute_result"
    }
   ],
   "source": [
    "df_item.head()"
   ]
  },
  {
   "cell_type": "markdown",
   "id": "bc3a9669",
   "metadata": {},
   "source": [
    "### データの加工\n",
    "\n",
    "Surprise 用に加工する必要がある"
   ]
  },
  {
   "cell_type": "code",
   "execution_count": 5,
   "id": "5817868b",
   "metadata": {},
   "outputs": [],
   "source": [
    "from surprise import Dataset\n",
    "from surprise import Reader\n",
    "from surprise.model_selection import cross_validate"
   ]
  },
  {
   "cell_type": "code",
   "execution_count": 11,
   "id": "fd5accd9",
   "metadata": {},
   "outputs": [],
   "source": [
    "# 「どのユーザがどの映画にどのような点をつけた」だけを取得してデータを加工\n",
    "reader = Reader(rating_scale=(1,5))\n",
    "data = Dataset.load_from_df(df_data[[\"user_id\", \"movie_id\", \"rating\"]], reader)"
   ]
  },
  {
   "cell_type": "markdown",
   "id": "fb7624ac",
   "metadata": {},
   "source": [
    "### SVD の学習"
   ]
  },
  {
   "cell_type": "code",
   "execution_count": 12,
   "id": "05ed7b9e",
   "metadata": {},
   "outputs": [],
   "source": [
    "from surprise import SVD"
   ]
  },
  {
   "cell_type": "code",
   "execution_count": 14,
   "id": "0aed9327",
   "metadata": {},
   "outputs": [
    {
     "data": {
      "text/plain": [
       "<surprise.prediction_algorithms.matrix_factorization.SVD at 0x1257a5190>"
      ]
     },
     "execution_count": 14,
     "metadata": {},
     "output_type": "execute_result"
    }
   ],
   "source": [
    "model = SVD(random_state=1)\n",
    "model.fit(data.build_full_trainset())"
   ]
  },
  {
   "cell_type": "markdown",
   "id": "df010c45",
   "metadata": {},
   "source": [
    "映画を見た数が少ない人を抽出"
   ]
  },
  {
   "cell_type": "code",
   "execution_count": 15,
   "id": "88cece11",
   "metadata": {},
   "outputs": [
    {
     "data": {
      "text/plain": [
       "count    20\n",
       "dtype: int64"
      ]
     },
     "execution_count": 15,
     "metadata": {},
     "output_type": "execute_result"
    }
   ],
   "source": [
    "aggregated = df_data[[\"user_id\", \"movie_id\"]].groupby(\"user_id\").count().rename(columns = {\"movie_id\" : \"count\"})\n",
    "aggregated.min()"
   ]
  },
  {
   "cell_type": "code",
   "execution_count": 17,
   "id": "5750ed1c",
   "metadata": {
    "scrolled": true
   },
   "outputs": [
    {
     "data": {
      "text/html": [
       "<div>\n",
       "<style scoped>\n",
       "    .dataframe tbody tr th:only-of-type {\n",
       "        vertical-align: middle;\n",
       "    }\n",
       "\n",
       "    .dataframe tbody tr th {\n",
       "        vertical-align: top;\n",
       "    }\n",
       "\n",
       "    .dataframe thead th {\n",
       "        text-align: right;\n",
       "    }\n",
       "</style>\n",
       "<table border=\"1\" class=\"dataframe\">\n",
       "  <thead>\n",
       "    <tr style=\"text-align: right;\">\n",
       "      <th></th>\n",
       "      <th>count</th>\n",
       "    </tr>\n",
       "    <tr>\n",
       "      <th>user_id</th>\n",
       "      <th></th>\n",
       "    </tr>\n",
       "  </thead>\n",
       "  <tbody>\n",
       "    <tr>\n",
       "      <th>19</th>\n",
       "      <td>20</td>\n",
       "    </tr>\n",
       "    <tr>\n",
       "      <th>34</th>\n",
       "      <td>20</td>\n",
       "    </tr>\n",
       "    <tr>\n",
       "      <th>36</th>\n",
       "      <td>20</td>\n",
       "    </tr>\n",
       "    <tr>\n",
       "      <th>93</th>\n",
       "      <td>20</td>\n",
       "    </tr>\n",
       "    <tr>\n",
       "      <th>143</th>\n",
       "      <td>20</td>\n",
       "    </tr>\n",
       "    <tr>\n",
       "      <th>147</th>\n",
       "      <td>20</td>\n",
       "    </tr>\n",
       "    <tr>\n",
       "      <th>166</th>\n",
       "      <td>20</td>\n",
       "    </tr>\n",
       "    <tr>\n",
       "      <th>202</th>\n",
       "      <td>20</td>\n",
       "    </tr>\n",
       "    <tr>\n",
       "      <th>242</th>\n",
       "      <td>20</td>\n",
       "    </tr>\n",
       "    <tr>\n",
       "      <th>300</th>\n",
       "      <td>20</td>\n",
       "    </tr>\n",
       "    <tr>\n",
       "      <th>309</th>\n",
       "      <td>20</td>\n",
       "    </tr>\n",
       "    <tr>\n",
       "      <th>364</th>\n",
       "      <td>20</td>\n",
       "    </tr>\n",
       "    <tr>\n",
       "      <th>418</th>\n",
       "      <td>20</td>\n",
       "    </tr>\n",
       "    <tr>\n",
       "      <th>441</th>\n",
       "      <td>20</td>\n",
       "    </tr>\n",
       "    <tr>\n",
       "      <th>475</th>\n",
       "      <td>20</td>\n",
       "    </tr>\n",
       "    <tr>\n",
       "      <th>558</th>\n",
       "      <td>20</td>\n",
       "    </tr>\n",
       "    <tr>\n",
       "      <th>571</th>\n",
       "      <td>20</td>\n",
       "    </tr>\n",
       "    <tr>\n",
       "      <th>572</th>\n",
       "      <td>20</td>\n",
       "    </tr>\n",
       "    <tr>\n",
       "      <th>596</th>\n",
       "      <td>20</td>\n",
       "    </tr>\n",
       "    <tr>\n",
       "      <th>631</th>\n",
       "      <td>20</td>\n",
       "    </tr>\n",
       "    <tr>\n",
       "      <th>636</th>\n",
       "      <td>20</td>\n",
       "    </tr>\n",
       "    <tr>\n",
       "      <th>685</th>\n",
       "      <td>20</td>\n",
       "    </tr>\n",
       "    <tr>\n",
       "      <th>732</th>\n",
       "      <td>20</td>\n",
       "    </tr>\n",
       "    <tr>\n",
       "      <th>740</th>\n",
       "      <td>20</td>\n",
       "    </tr>\n",
       "    <tr>\n",
       "      <th>809</th>\n",
       "      <td>20</td>\n",
       "    </tr>\n",
       "    <tr>\n",
       "      <th>812</th>\n",
       "      <td>20</td>\n",
       "    </tr>\n",
       "    <tr>\n",
       "      <th>824</th>\n",
       "      <td>20</td>\n",
       "    </tr>\n",
       "    <tr>\n",
       "      <th>866</th>\n",
       "      <td>20</td>\n",
       "    </tr>\n",
       "    <tr>\n",
       "      <th>873</th>\n",
       "      <td>20</td>\n",
       "    </tr>\n",
       "    <tr>\n",
       "      <th>888</th>\n",
       "      <td>20</td>\n",
       "    </tr>\n",
       "    <tr>\n",
       "      <th>895</th>\n",
       "      <td>20</td>\n",
       "    </tr>\n",
       "    <tr>\n",
       "      <th>926</th>\n",
       "      <td>20</td>\n",
       "    </tr>\n",
       "  </tbody>\n",
       "</table>\n",
       "</div>"
      ],
      "text/plain": [
       "         count\n",
       "user_id       \n",
       "19          20\n",
       "34          20\n",
       "36          20\n",
       "93          20\n",
       "143         20\n",
       "147         20\n",
       "166         20\n",
       "202         20\n",
       "242         20\n",
       "300         20\n",
       "309         20\n",
       "364         20\n",
       "418         20\n",
       "441         20\n",
       "475         20\n",
       "558         20\n",
       "571         20\n",
       "572         20\n",
       "596         20\n",
       "631         20\n",
       "636         20\n",
       "685         20\n",
       "732         20\n",
       "740         20\n",
       "809         20\n",
       "812         20\n",
       "824         20\n",
       "866         20\n",
       "873         20\n",
       "888         20\n",
       "895         20\n",
       "926         20"
      ]
     },
     "execution_count": 17,
     "metadata": {},
     "output_type": "execute_result"
    }
   ],
   "source": [
    "aggregated[aggregated[\"count\"] == 20]"
   ]
  },
  {
   "cell_type": "code",
   "execution_count": 18,
   "id": "5df34ccd",
   "metadata": {
    "scrolled": true
   },
   "outputs": [
    {
     "data": {
      "text/html": [
       "<div>\n",
       "<style scoped>\n",
       "    .dataframe tbody tr th:only-of-type {\n",
       "        vertical-align: middle;\n",
       "    }\n",
       "\n",
       "    .dataframe tbody tr th {\n",
       "        vertical-align: top;\n",
       "    }\n",
       "\n",
       "    .dataframe thead th {\n",
       "        text-align: right;\n",
       "    }\n",
       "</style>\n",
       "<table border=\"1\" class=\"dataframe\">\n",
       "  <thead>\n",
       "    <tr style=\"text-align: right;\">\n",
       "      <th></th>\n",
       "      <th>user_id</th>\n",
       "      <th>movie_id</th>\n",
       "      <th>rating</th>\n",
       "      <th>timestamp</th>\n",
       "      <th>movie_title</th>\n",
       "      <th>release_date</th>\n",
       "    </tr>\n",
       "  </thead>\n",
       "  <tbody>\n",
       "    <tr>\n",
       "      <th>0</th>\n",
       "      <td>364</td>\n",
       "      <td>690</td>\n",
       "      <td>4</td>\n",
       "      <td>1997-10-04 11:15:09</td>\n",
       "      <td>Seven Years in Tibet (1997)</td>\n",
       "      <td>1997-01-01</td>\n",
       "    </tr>\n",
       "    <tr>\n",
       "      <th>1</th>\n",
       "      <td>364</td>\n",
       "      <td>1048</td>\n",
       "      <td>5</td>\n",
       "      <td>1997-10-04 11:19:45</td>\n",
       "      <td>She's the One (1996)</td>\n",
       "      <td>1996-08-23</td>\n",
       "    </tr>\n",
       "    <tr>\n",
       "      <th>2</th>\n",
       "      <td>364</td>\n",
       "      <td>321</td>\n",
       "      <td>2</td>\n",
       "      <td>1997-10-04 11:17:58</td>\n",
       "      <td>Mother (1996)</td>\n",
       "      <td>1996-12-25</td>\n",
       "    </tr>\n",
       "    <tr>\n",
       "      <th>3</th>\n",
       "      <td>364</td>\n",
       "      <td>289</td>\n",
       "      <td>3</td>\n",
       "      <td>1997-10-04 11:17:12</td>\n",
       "      <td>Evita (1996)</td>\n",
       "      <td>1996-12-25</td>\n",
       "    </tr>\n",
       "    <tr>\n",
       "      <th>4</th>\n",
       "      <td>364</td>\n",
       "      <td>288</td>\n",
       "      <td>4</td>\n",
       "      <td>1997-10-04 11:17:12</td>\n",
       "      <td>Scream (1996)</td>\n",
       "      <td>1996-12-20</td>\n",
       "    </tr>\n",
       "    <tr>\n",
       "      <th>5</th>\n",
       "      <td>364</td>\n",
       "      <td>269</td>\n",
       "      <td>4</td>\n",
       "      <td>1997-10-04 11:15:09</td>\n",
       "      <td>Full Monty, The (1997)</td>\n",
       "      <td>1997-01-01</td>\n",
       "    </tr>\n",
       "    <tr>\n",
       "      <th>6</th>\n",
       "      <td>364</td>\n",
       "      <td>875</td>\n",
       "      <td>3</td>\n",
       "      <td>1997-10-04 11:19:45</td>\n",
       "      <td>She's So Lovely (1997)</td>\n",
       "      <td>1997-08-22</td>\n",
       "    </tr>\n",
       "    <tr>\n",
       "      <th>7</th>\n",
       "      <td>364</td>\n",
       "      <td>988</td>\n",
       "      <td>2</td>\n",
       "      <td>1997-10-04 11:19:21</td>\n",
       "      <td>Beautician and the Beast, The (1997)</td>\n",
       "      <td>1997-02-07</td>\n",
       "    </tr>\n",
       "    <tr>\n",
       "      <th>8</th>\n",
       "      <td>364</td>\n",
       "      <td>294</td>\n",
       "      <td>5</td>\n",
       "      <td>1997-10-04 11:17:12</td>\n",
       "      <td>Liar Liar (1997)</td>\n",
       "      <td>1997-03-21</td>\n",
       "    </tr>\n",
       "    <tr>\n",
       "      <th>9</th>\n",
       "      <td>364</td>\n",
       "      <td>262</td>\n",
       "      <td>3</td>\n",
       "      <td>1997-10-04 11:17:12</td>\n",
       "      <td>In the Company of Men (1997)</td>\n",
       "      <td>1997-08-01</td>\n",
       "    </tr>\n",
       "    <tr>\n",
       "      <th>10</th>\n",
       "      <td>364</td>\n",
       "      <td>319</td>\n",
       "      <td>3</td>\n",
       "      <td>1997-10-04 11:15:09</td>\n",
       "      <td>Everyone Says I Love You (1996)</td>\n",
       "      <td>1996-12-06</td>\n",
       "    </tr>\n",
       "    <tr>\n",
       "      <th>11</th>\n",
       "      <td>364</td>\n",
       "      <td>948</td>\n",
       "      <td>4</td>\n",
       "      <td>1997-10-04 11:19:21</td>\n",
       "      <td>Booty Call (1997)</td>\n",
       "      <td>1997-02-28</td>\n",
       "    </tr>\n",
       "    <tr>\n",
       "      <th>12</th>\n",
       "      <td>364</td>\n",
       "      <td>261</td>\n",
       "      <td>2</td>\n",
       "      <td>1997-10-04 11:17:12</td>\n",
       "      <td>Air Bud (1997)</td>\n",
       "      <td>1997-08-01</td>\n",
       "    </tr>\n",
       "    <tr>\n",
       "      <th>13</th>\n",
       "      <td>364</td>\n",
       "      <td>990</td>\n",
       "      <td>4</td>\n",
       "      <td>1997-10-04 11:17:58</td>\n",
       "      <td>Anna Karenina (1997)</td>\n",
       "      <td>1997-04-04</td>\n",
       "    </tr>\n",
       "    <tr>\n",
       "      <th>14</th>\n",
       "      <td>364</td>\n",
       "      <td>286</td>\n",
       "      <td>5</td>\n",
       "      <td>1997-10-04 11:15:09</td>\n",
       "      <td>English Patient, The (1996)</td>\n",
       "      <td>1996-11-15</td>\n",
       "    </tr>\n",
       "    <tr>\n",
       "      <th>15</th>\n",
       "      <td>364</td>\n",
       "      <td>302</td>\n",
       "      <td>4</td>\n",
       "      <td>1997-10-04 11:15:09</td>\n",
       "      <td>L.A. Confidential (1997)</td>\n",
       "      <td>1997-01-01</td>\n",
       "    </tr>\n",
       "    <tr>\n",
       "      <th>16</th>\n",
       "      <td>364</td>\n",
       "      <td>325</td>\n",
       "      <td>4</td>\n",
       "      <td>1997-10-04 11:17:12</td>\n",
       "      <td>Crash (1996)</td>\n",
       "      <td>1997-03-21</td>\n",
       "    </tr>\n",
       "    <tr>\n",
       "      <th>17</th>\n",
       "      <td>364</td>\n",
       "      <td>268</td>\n",
       "      <td>3</td>\n",
       "      <td>1997-10-04 11:15:09</td>\n",
       "      <td>Chasing Amy (1997)</td>\n",
       "      <td>1997-01-01</td>\n",
       "    </tr>\n",
       "    <tr>\n",
       "      <th>18</th>\n",
       "      <td>364</td>\n",
       "      <td>687</td>\n",
       "      <td>1</td>\n",
       "      <td>1997-10-04 11:19:21</td>\n",
       "      <td>McHale's Navy (1997)</td>\n",
       "      <td>1997-04-18</td>\n",
       "    </tr>\n",
       "    <tr>\n",
       "      <th>19</th>\n",
       "      <td>364</td>\n",
       "      <td>678</td>\n",
       "      <td>4</td>\n",
       "      <td>1997-10-04 11:17:58</td>\n",
       "      <td>Volcano (1997)</td>\n",
       "      <td>1997-04-25</td>\n",
       "    </tr>\n",
       "  </tbody>\n",
       "</table>\n",
       "</div>"
      ],
      "text/plain": [
       "    user_id  movie_id  rating           timestamp  \\\n",
       "0       364       690       4 1997-10-04 11:15:09   \n",
       "1       364      1048       5 1997-10-04 11:19:45   \n",
       "2       364       321       2 1997-10-04 11:17:58   \n",
       "3       364       289       3 1997-10-04 11:17:12   \n",
       "4       364       288       4 1997-10-04 11:17:12   \n",
       "5       364       269       4 1997-10-04 11:15:09   \n",
       "6       364       875       3 1997-10-04 11:19:45   \n",
       "7       364       988       2 1997-10-04 11:19:21   \n",
       "8       364       294       5 1997-10-04 11:17:12   \n",
       "9       364       262       3 1997-10-04 11:17:12   \n",
       "10      364       319       3 1997-10-04 11:15:09   \n",
       "11      364       948       4 1997-10-04 11:19:21   \n",
       "12      364       261       2 1997-10-04 11:17:12   \n",
       "13      364       990       4 1997-10-04 11:17:58   \n",
       "14      364       286       5 1997-10-04 11:15:09   \n",
       "15      364       302       4 1997-10-04 11:15:09   \n",
       "16      364       325       4 1997-10-04 11:17:12   \n",
       "17      364       268       3 1997-10-04 11:15:09   \n",
       "18      364       687       1 1997-10-04 11:19:21   \n",
       "19      364       678       4 1997-10-04 11:17:58   \n",
       "\n",
       "                             movie_title release_date  \n",
       "0            Seven Years in Tibet (1997)   1997-01-01  \n",
       "1                   She's the One (1996)   1996-08-23  \n",
       "2                          Mother (1996)   1996-12-25  \n",
       "3                           Evita (1996)   1996-12-25  \n",
       "4                          Scream (1996)   1996-12-20  \n",
       "5                 Full Monty, The (1997)   1997-01-01  \n",
       "6                 She's So Lovely (1997)   1997-08-22  \n",
       "7   Beautician and the Beast, The (1997)   1997-02-07  \n",
       "8                       Liar Liar (1997)   1997-03-21  \n",
       "9           In the Company of Men (1997)   1997-08-01  \n",
       "10       Everyone Says I Love You (1996)   1996-12-06  \n",
       "11                     Booty Call (1997)   1997-02-28  \n",
       "12                        Air Bud (1997)   1997-08-01  \n",
       "13                  Anna Karenina (1997)   1997-04-04  \n",
       "14           English Patient, The (1996)   1996-11-15  \n",
       "15              L.A. Confidential (1997)   1997-01-01  \n",
       "16                          Crash (1996)   1997-03-21  \n",
       "17                    Chasing Amy (1997)   1997-01-01  \n",
       "18                  McHale's Navy (1997)   1997-04-18  \n",
       "19                        Volcano (1997)   1997-04-25  "
      ]
     },
     "execution_count": 18,
     "metadata": {},
     "output_type": "execute_result"
    }
   ],
   "source": [
    "uid = 364\n",
    "df_data[df_data[\"user_id\"] == uid].merge(df_item, \"left\", on=\"movie_id\")"
   ]
  },
  {
   "cell_type": "code",
   "execution_count": 22,
   "id": "f721b197",
   "metadata": {},
   "outputs": [
    {
     "data": {
      "text/plain": [
       "4.1793513287571535"
      ]
     },
     "execution_count": 22,
     "metadata": {},
     "output_type": "execute_result"
    }
   ],
   "source": [
    "# uid=364 がもし movie_id = 1 を見たらどのような評価をするか予測\n",
    "iid = 1\n",
    "model.predict(uid=uid, iid=iid).est"
   ]
  },
  {
   "cell_type": "code",
   "execution_count": 48,
   "id": "37c6498a",
   "metadata": {},
   "outputs": [],
   "source": [
    "def get_ranking(user_id, model, candidates):\n",
    "    pred = [(i, model.predict(user_id, i).est) for i in candidates]\n",
    "    return sorted(pred, key=lambda x : x[1], reverse=True)\n",
    "\n",
    "def show_result(res):\n",
    "    for movie, score in res:\n",
    "        print(\"{:4d} {:70s} {:f}\".format(movie, df_item.loc[movie][\"movie_title\"], score))"
   ]
  },
  {
   "cell_type": "code",
   "execution_count": 49,
   "id": "a7ddfdde",
   "metadata": {},
   "outputs": [],
   "source": [
    "# おすすめ映画一覧表示（ランキング順）\n",
    "watched = set(df_data[df_data[\"user_id\"] == iid][\"movie_id\"])\n",
    "r = get_ranking(uid, model, set(df_item.index) - watched)"
   ]
  },
  {
   "cell_type": "code",
   "execution_count": 50,
   "id": "cbdf8b38",
   "metadata": {},
   "outputs": [
    {
     "name": "stdout",
     "output_type": "stream",
     "text": [
      " 408 Close Shave, A (1995)                                                  4.602473\n",
      " 318 Schindler's List (1993)                                                4.549611\n",
      " 169 Wrong Trousers, The (1993)                                             4.525021\n",
      " 483 Casablanca (1942)                                                      4.515352\n",
      "  64 Shawshank Redemption, The (1994)                                       4.508791\n",
      " 603 Rear Window (1954)                                                     4.477425\n",
      " 114 Wallace & Gromit: The Best of Aardman Animation (1996)                 4.453611\n",
      "  12 Usual Suspects, The (1995)                                             4.444211\n",
      " 178 12 Angry Men (1957)                                                    4.434682\n",
      "  50 Star Wars (1977)                                                       4.404653\n",
      " 272 Good Will Hunting (1997)                                               4.363911\n",
      " 285 Secrets & Lies (1996)                                                  4.360328\n",
      " 170 Cinema Paradiso (1988)                                                 4.351937\n",
      " 474 Dr. Strangelove or: How I Learned to Stop Worrying and Love the Bomb (1963) 4.351625\n",
      " 427 To Kill a Mockingbird (1962)                                           4.350933\n",
      " 357 One Flew Over the Cuckoo's Nest (1975)                                 4.349103\n",
      " 127 Godfather, The (1972)                                                  4.348887\n",
      " 657 Manchurian Candidate, The (1962)                                       4.343136\n",
      " 480 North by Northwest (1959)                                              4.338785\n",
      " 515 Boot, Das (1981)                                                       4.335621\n",
      " 923 Raise the Red Lantern (1991)                                           4.334486\n",
      " 134 Citizen Kane (1941)                                                    4.321424\n",
      " 313 Titanic (1997)                                                         4.312493\n",
      " 479 Vertigo (1958)                                                         4.309841\n",
      " 174 Raiders of the Lost Ark (1981)                                         4.309519\n",
      " 963 Some Folks Call It a Sling Blade (1993)                                4.308720\n",
      "  98 Silence of the Lambs, The (1991)                                       4.307581\n",
      " 511 Lawrence of Arabia (1962)                                              4.306605\n",
      " 484 Maltese Falcon, The (1941)                                             4.304470\n",
      " 172 Empire Strikes Back, The (1980)                                        4.303833\n"
     ]
    }
   ],
   "source": [
    "show_result(r[:30])"
   ]
  },
  {
   "cell_type": "markdown",
   "id": "09241d1b",
   "metadata": {},
   "source": [
    "#### データの追加\n",
    "\n",
    "人工的にユーザを追加することで映画\"Star Wars\"（邦題「スター・ウォーズ」）が好きな人にはどんな映画がおすすめかを計算してみます。まず準備としてユーザID（user id）の最大値を表示します。"
   ]
  },
  {
   "cell_type": "code",
   "execution_count": 30,
   "id": "79a62978",
   "metadata": {},
   "outputs": [
    {
     "data": {
      "text/plain": [
       "943"
      ]
     },
     "execution_count": 30,
     "metadata": {},
     "output_type": "execute_result"
    }
   ],
   "source": [
    "df_data[\"user_id\"].max()"
   ]
  },
  {
   "cell_type": "code",
   "execution_count": 31,
   "id": "f9c35d4d",
   "metadata": {},
   "outputs": [
    {
     "data": {
      "text/html": [
       "<div>\n",
       "<style scoped>\n",
       "    .dataframe tbody tr th:only-of-type {\n",
       "        vertical-align: middle;\n",
       "    }\n",
       "\n",
       "    .dataframe tbody tr th {\n",
       "        vertical-align: top;\n",
       "    }\n",
       "\n",
       "    .dataframe thead th {\n",
       "        text-align: right;\n",
       "    }\n",
       "</style>\n",
       "<table border=\"1\" class=\"dataframe\">\n",
       "  <thead>\n",
       "    <tr style=\"text-align: right;\">\n",
       "      <th></th>\n",
       "      <th>movie_title</th>\n",
       "      <th>release_date</th>\n",
       "    </tr>\n",
       "    <tr>\n",
       "      <th>movie_id</th>\n",
       "      <th></th>\n",
       "      <th></th>\n",
       "    </tr>\n",
       "  </thead>\n",
       "  <tbody>\n",
       "    <tr>\n",
       "      <th>50</th>\n",
       "      <td>Star Wars (1977)</td>\n",
       "      <td>1977-01-01</td>\n",
       "    </tr>\n",
       "  </tbody>\n",
       "</table>\n",
       "</div>"
      ],
      "text/plain": [
       "               movie_title release_date\n",
       "movie_id                               \n",
       "50        Star Wars (1977)   1977-01-01"
      ]
     },
     "execution_count": 31,
     "metadata": {},
     "output_type": "execute_result"
    }
   ],
   "source": [
    "df_item[df_item[\"movie_title\"].str.contains(\"Star Wars\")]"
   ]
  },
  {
   "cell_type": "markdown",
   "id": "c0567aa9",
   "metadata": {},
   "source": [
    "ユーザIDの最大値が943だったので、ここでユーザIDが944の人を人工的に加えて、その人は\"Star Wars\"（映画ID=50）を5と評価したものとします。"
   ]
  },
  {
   "cell_type": "code",
   "execution_count": 32,
   "id": "2a14dc89",
   "metadata": {},
   "outputs": [],
   "source": [
    "uid = 944\n",
    "iid = 50\n",
    "\n",
    "df_data2 = df_data.append({\"user_id\": uid, \"movie_id\": iid, \"rating\": 5}, ignore_index=True).convert_dtypes()"
   ]
  },
  {
   "cell_type": "code",
   "execution_count": 34,
   "id": "a6bc1acf",
   "metadata": {},
   "outputs": [
    {
     "data": {
      "text/html": [
       "<div>\n",
       "<style scoped>\n",
       "    .dataframe tbody tr th:only-of-type {\n",
       "        vertical-align: middle;\n",
       "    }\n",
       "\n",
       "    .dataframe tbody tr th {\n",
       "        vertical-align: top;\n",
       "    }\n",
       "\n",
       "    .dataframe thead th {\n",
       "        text-align: right;\n",
       "    }\n",
       "</style>\n",
       "<table border=\"1\" class=\"dataframe\">\n",
       "  <thead>\n",
       "    <tr style=\"text-align: right;\">\n",
       "      <th></th>\n",
       "      <th>user_id</th>\n",
       "      <th>movie_id</th>\n",
       "      <th>rating</th>\n",
       "      <th>timestamp</th>\n",
       "    </tr>\n",
       "  </thead>\n",
       "  <tbody>\n",
       "    <tr>\n",
       "      <th>99996</th>\n",
       "      <td>716</td>\n",
       "      <td>204</td>\n",
       "      <td>5</td>\n",
       "      <td>1997-11-18 04:39:03</td>\n",
       "    </tr>\n",
       "    <tr>\n",
       "      <th>99997</th>\n",
       "      <td>276</td>\n",
       "      <td>1090</td>\n",
       "      <td>1</td>\n",
       "      <td>1997-09-21 07:49:55</td>\n",
       "    </tr>\n",
       "    <tr>\n",
       "      <th>99998</th>\n",
       "      <td>13</td>\n",
       "      <td>225</td>\n",
       "      <td>2</td>\n",
       "      <td>1997-12-18 07:52:36</td>\n",
       "    </tr>\n",
       "    <tr>\n",
       "      <th>99999</th>\n",
       "      <td>12</td>\n",
       "      <td>203</td>\n",
       "      <td>3</td>\n",
       "      <td>1997-11-20 02:13:03</td>\n",
       "    </tr>\n",
       "    <tr>\n",
       "      <th>100000</th>\n",
       "      <td>944</td>\n",
       "      <td>50</td>\n",
       "      <td>5</td>\n",
       "      <td>NaT</td>\n",
       "    </tr>\n",
       "  </tbody>\n",
       "</table>\n",
       "</div>"
      ],
      "text/plain": [
       "        user_id  movie_id  rating           timestamp\n",
       "99996       716       204       5 1997-11-18 04:39:03\n",
       "99997       276      1090       1 1997-09-21 07:49:55\n",
       "99998        13       225       2 1997-12-18 07:52:36\n",
       "99999        12       203       3 1997-11-20 02:13:03\n",
       "100000      944        50       5                 NaT"
      ]
     },
     "execution_count": 34,
     "metadata": {},
     "output_type": "execute_result"
    }
   ],
   "source": [
    "df_data2.tail()"
   ]
  },
  {
   "cell_type": "markdown",
   "id": "0b3dc6f4",
   "metadata": {},
   "source": [
    "おすすめを計算して表示する"
   ]
  },
  {
   "cell_type": "code",
   "execution_count": 38,
   "id": "f8322e73",
   "metadata": {},
   "outputs": [
    {
     "name": "stdout",
     "output_type": "stream",
     "text": [
      " 169 Wrong Trousers, The (1993)                                             4.685172\n",
      " 483 Casablanca (1942)                                                      4.644552\n",
      " 318 Schindler's List (1993)                                                4.626595\n",
      " 603 Rear Window (1954)                                                     4.623174\n",
      " 408 Close Shave, A (1995)                                                  4.591420\n",
      " 165 Jean de Florette (1986)                                                4.587939\n",
      " 480 North by Northwest (1959)                                              4.548979\n",
      " 515 Boot, Das (1981)                                                       4.539462\n",
      " 127 Godfather, The (1972)                                                  4.488410\n",
      " 657 Manchurian Candidate, The (1962)                                       4.483740\n",
      " 272 Good Will Hunting (1997)                                               4.468293\n",
      " 427 To Kill a Mockingbird (1962)                                           4.466612\n",
      "  98 Silence of the Lambs, The (1991)                                       4.460717\n",
      " 174 Raiders of the Lost Ark (1981)                                         4.457972\n",
      " 223 Sling Blade (1996)                                                     4.456399\n",
      " 180 Apocalypse Now (1979)                                                  4.455015\n",
      " 178 12 Angry Men (1957)                                                    4.453551\n",
      " 190 Henry V (1989)                                                         4.448197\n",
      "  89 Blade Runner (1982)                                                    4.435957\n",
      "   8 Babe (1995)                                                            4.433798\n",
      " 251 Shall We Dance? (1996)                                                 4.427892\n",
      " 498 African Queen, The (1951)                                              4.415943\n",
      " 114 Wallace & Gromit: The Best of Aardman Animation (1996)                 4.404132\n",
      " 357 One Flew Over the Cuckoo's Nest (1975)                                 4.401017\n",
      " 479 Vertigo (1958)                                                         4.400614\n",
      " 513 Third Man, The (1949)                                                  4.396395\n",
      "  64 Shawshank Redemption, The (1994)                                       4.396262\n",
      " 198 Nikita (La Femme Nikita) (1990)                                        4.393485\n",
      " 487 Roman Holiday (1953)                                                   4.386902\n",
      "1449 Pather Panchali (1955)                                                 4.382759\n"
     ]
    }
   ],
   "source": [
    "model = SVD(random_state=1)\n",
    "data2 = Dataset.load_from_df(df_data2[[\"user_id\", \"movie_id\", \"rating\"]], reader)\n",
    "model.fit(data2.build_full_trainset())\n",
    "\n",
    "r = get_ranking(uid, model, [x for x in df_item.index if x != iid])\n",
    "\n",
    "show_result(r[:30])"
   ]
  },
  {
   "cell_type": "markdown",
   "id": "3937dfcb",
   "metadata": {},
   "source": [
    "### アルゴリズムの評価\n",
    "\n",
    "比較するモデル：KNNBasic, NMF, SVD     \n",
    "評価指標：RMSE（Root of Mean Square Error）\n",
    "\n",
    "NMF と SVD は両方とも行列分解によるアルゴリズム\n",
    "- NMF（Non-negative Matrix Factorization）：非負係数の行列による分解を利用\n",
    "- SVD（Singular Value Decomposition）：レイティングで良い結果を出すことを目的につかられたアルゴリズム\n",
    "- KNNBasic：k近傍法に基づくものでベクトルの近接関係を着目したもの"
   ]
  },
  {
   "cell_type": "code",
   "execution_count": 39,
   "id": "1e76720a",
   "metadata": {},
   "outputs": [],
   "source": [
    "from surprise.model_selection import train_test_split\n",
    "from surprise import accuracy\n",
    "\n",
    "from surprise.prediction_algorithms.knns import KNNBasic\n",
    "from surprise.prediction_algorithms.matrix_factorization import NMF"
   ]
  },
  {
   "cell_type": "code",
   "execution_count": 40,
   "id": "20ceab86",
   "metadata": {},
   "outputs": [],
   "source": [
    "trainset, testset = train_test_split(data, test_size = 0.2)"
   ]
  },
  {
   "cell_type": "code",
   "execution_count": 42,
   "id": "31a4b778",
   "metadata": {},
   "outputs": [
    {
     "name": "stdout",
     "output_type": "stream",
     "text": [
      "Computing the msd similarity matrix...\n",
      "Done computing similarity matrix.\n",
      "KNNBasic\n",
      "0.9786231543157083\n",
      "NMF\n",
      "0.9593563239030428\n",
      "SVD\n",
      "0.9326836956463491\n"
     ]
    }
   ],
   "source": [
    "algorithms = [KNNBasic, NMF, SVD]\n",
    "algo_names = [\"KNNBasic\", \"NMF\", \"SVD\"]\n",
    "\n",
    "for algo, name in zip(algorithms, algo_names):\n",
    "    model = algo()\n",
    "    model.fit(trainset)\n",
    "    predictions = model.test(testset)\n",
    "    print(name)\n",
    "    print(accuracy.rmse(predictions, verbose=False))"
   ]
  },
  {
   "cell_type": "markdown",
   "id": "051cc834",
   "metadata": {},
   "source": [
    "SVD が最も良い結果である。"
   ]
  },
  {
   "cell_type": "code",
   "execution_count": null,
   "id": "6ff192f1",
   "metadata": {},
   "outputs": [],
   "source": []
  },
  {
   "cell_type": "code",
   "execution_count": null,
   "id": "94b39271",
   "metadata": {},
   "outputs": [],
   "source": []
  },
  {
   "cell_type": "code",
   "execution_count": null,
   "id": "19fc6d40",
   "metadata": {},
   "outputs": [],
   "source": []
  },
  {
   "cell_type": "code",
   "execution_count": null,
   "id": "0a7ed554",
   "metadata": {},
   "outputs": [],
   "source": []
  },
  {
   "cell_type": "code",
   "execution_count": null,
   "id": "61d8a91a",
   "metadata": {},
   "outputs": [],
   "source": []
  },
  {
   "cell_type": "code",
   "execution_count": null,
   "id": "e1cbb21d",
   "metadata": {},
   "outputs": [],
   "source": []
  },
  {
   "cell_type": "code",
   "execution_count": null,
   "id": "09b5d6a3",
   "metadata": {},
   "outputs": [],
   "source": []
  },
  {
   "cell_type": "code",
   "execution_count": null,
   "id": "b9e0a63a",
   "metadata": {},
   "outputs": [],
   "source": []
  }
 ],
 "metadata": {
  "kernelspec": {
   "display_name": "Python 3",
   "language": "python",
   "name": "python3"
  },
  "language_info": {
   "codemirror_mode": {
    "name": "ipython",
    "version": 3
   },
   "file_extension": ".py",
   "mimetype": "text/x-python",
   "name": "python",
   "nbconvert_exporter": "python",
   "pygments_lexer": "ipython3",
   "version": "3.8.2"
  }
 },
 "nbformat": 4,
 "nbformat_minor": 5
}
