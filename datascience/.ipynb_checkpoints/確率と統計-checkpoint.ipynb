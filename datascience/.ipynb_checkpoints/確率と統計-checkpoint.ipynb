{
 "cells": [
  {
   "cell_type": "code",
   "execution_count": 1,
   "id": "94074f49",
   "metadata": {},
   "outputs": [],
   "source": [
    "import numpy as np\n",
    "import scipy as sp\n",
    "import pandas as pd\n",
    "from pandas import Series, DataFrame\n",
    "\n",
    "import matplotlib.pyplot as plt\n",
    "import matplotlib as mpl\n",
    "import seaborn as sns\n",
    "%matplotlib inline\n",
    "\n",
    "%precision 3\n",
    "\n",
    "np.random.seed(0)"
   ]
  },
  {
   "cell_type": "markdown",
   "id": "467d9942",
   "metadata": {},
   "source": [
    "# 確率"
   ]
  },
  {
   "cell_type": "markdown",
   "id": "1b14bb85",
   "metadata": {},
   "source": [
    "## 統計的確率"
   ]
  },
  {
   "cell_type": "code",
   "execution_count": 8,
   "id": "6321c1e5",
   "metadata": {},
   "outputs": [
    {
     "name": "stdout",
     "output_type": "stream",
     "text": [
      "1 が出る確率 :  0.171\n",
      "2 が出る確率 :  0.158\n",
      "3 が出る確率 :  0.157\n",
      "4 が出る確率 :  0.183\n",
      "5 が出る確率 :  0.161\n",
      "6 が出る確率 :  0.17\n"
     ]
    }
   ],
   "source": [
    "# サイコロを 1,000回振ってみる\n",
    "calc_step = 1000\n",
    "dice_rolls = np.random.choice(dice_data, calc_step)\n",
    "\n",
    "# それぞれどのくらいの頻度で発生したか\n",
    "for i in range(1, 7):\n",
    "    p = len(dice_rolls[dice_rolls == i]) / calc_step\n",
    "    print(i, \"が出る確率 : \", p)"
   ]
  },
  {
   "cell_type": "markdown",
   "id": "351cb22d",
   "metadata": {},
   "source": [
    "## 一様分布"
   ]
  },
  {
   "cell_type": "code",
   "execution_count": 11,
   "id": "cff63a90",
   "metadata": {},
   "outputs": [
    {
     "data": {
      "image/png": "[encoded data removed]",
      "text/plain": [
       "<Figure size 432x288 with 1 Axes>"
      ]
     },
     "metadata": {
      "needs_background": "light"
     },
     "output_type": "display_data"
    }
   ],
   "source": [
    "calc_steps = 1000\n",
    "dice_rolls = np.random.choice(dice_data, calc_steps)\n",
    "\n",
    "prob_data = np.array([])\n",
    "for i in range(1, 7):\n",
    "    p = len(dice_rolls[dice_rolls == i]) / calc_steps\n",
    "    prob_data = np.append(prob_data, len(dice_rolls[dice_rolls == i]) / calc_steps)\n",
    "\n",
    "plt.bar(dice_data, prob_data)\n",
    "plt.grid(True)"
   ]
  },
  {
   "cell_type": "markdown",
   "id": "a6af2486",
   "metadata": {},
   "source": [
    "### ベルヌーイ分布\n",
    "\n",
    "結果が二種類しかない試行をベルヌーイ試行と呼ぶ。     \n",
    "ベルヌーイ分布とは、１回のベルヌーイ試行において、各事象が生じる確率の分布を指したものです。"
   ]
  },
  {
   "cell_type": "code",
   "execution_count": 12,
   "id": "a4149ce9",
   "metadata": {},
   "outputs": [],
   "source": [
    "# 0 = 表, 1 = 裏とする\n",
    "prob_be_data = np.array([])\n",
    "coin_data = np.array([0, 0, 0, 0, 0, 1, 1, 1])\n",
    "\n",
    "for i in np.unique(coin_data):\n",
    "    p = len(coin_data[coin_data == i]) / len(coin_data)\n",
    "    prob_be_data = np.append(prob_be_data, p)"
   ]
  },
  {
   "cell_type": "code",
   "execution_count": 14,
   "id": "b2ca4f91",
   "metadata": {},
   "outputs": [
    {
     "data": {
      "image/png": "[encoded data removed]",
      "text/plain": [
       "<Figure size 432x288 with 1 Axes>"
      ]
     },
     "metadata": {
      "needs_background": "light"
     },
     "output_type": "display_data"
    }
   ],
   "source": [
    "plt.bar([0, 1], prob_be_data, align=\"center\")\n",
    "plt.xticks([0, 1], [\"head\", \"tail\"])\n",
    "plt.grid(True)"
   ]
  }
 ],
 "metadata": {
  "kernelspec": {
   "display_name": "Python 3",
   "language": "python",
   "name": "python3"
  },
  "language_info": {
   "codemirror_mode": {
    "name": "ipython",
    "version": 3
   },
   "file_extension": ".py",
   "mimetype": "text/x-python",
   "name": "python",
   "nbconvert_exporter": "python",
   "pygments_lexer": "ipython3",
   "version": "3.8.2"
  }
 },
 "nbformat": 4,
 "nbformat_minor": 5
}
