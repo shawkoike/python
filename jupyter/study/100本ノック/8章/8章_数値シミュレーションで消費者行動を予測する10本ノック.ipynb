{
 "cells": [
  {
   "cell_type": "markdown",
   "metadata": {},
   "source": [
    "# 8章 数値シミュレーションで消費者行動を予測する10本ノック\n",
    "\n",
    "ここでは、消費者行動が口コミなどの情報伝播によってどのように変化していくかを分析する、  \n",
    "人間関係のネットワーク構造を用いた数値シミュレーション手法を中心に学んでいきます。"
   ]
  },
  {
   "cell_type": "markdown",
   "metadata": {},
   "source": [
    "### ノック71：人間関係のネットワークを可視化してみよう"
   ]
  },
  {
   "cell_type": "code",
   "execution_count": 1,
   "metadata": {},
   "outputs": [
    {
     "data": {
      "text/html": [
       "<div>\n",
       "<style scoped>\n",
       "    .dataframe tbody tr th:only-of-type {\n",
       "        vertical-align: middle;\n",
       "    }\n",
       "\n",
       "    .dataframe tbody tr th {\n",
       "        vertical-align: top;\n",
       "    }\n",
       "\n",
       "    .dataframe thead th {\n",
       "        text-align: right;\n",
       "    }\n",
       "</style>\n",
       "<table border=\"1\" class=\"dataframe\">\n",
       "  <thead>\n",
       "    <tr style=\"text-align: right;\">\n",
       "      <th></th>\n",
       "      <th>Unnamed: 0</th>\n",
       "      <th>Node0</th>\n",
       "      <th>Node1</th>\n",
       "      <th>Node2</th>\n",
       "      <th>Node3</th>\n",
       "      <th>Node4</th>\n",
       "      <th>Node5</th>\n",
       "      <th>Node6</th>\n",
       "      <th>Node7</th>\n",
       "      <th>Node8</th>\n",
       "      <th>...</th>\n",
       "      <th>Node10</th>\n",
       "      <th>Node11</th>\n",
       "      <th>Node12</th>\n",
       "      <th>Node13</th>\n",
       "      <th>Node14</th>\n",
       "      <th>Node15</th>\n",
       "      <th>Node16</th>\n",
       "      <th>Node17</th>\n",
       "      <th>Node18</th>\n",
       "      <th>Node19</th>\n",
       "    </tr>\n",
       "  </thead>\n",
       "  <tbody>\n",
       "    <tr>\n",
       "      <th>0</th>\n",
       "      <td>Node0</td>\n",
       "      <td>0.0</td>\n",
       "      <td>0.0</td>\n",
       "      <td>0.0</td>\n",
       "      <td>0.0</td>\n",
       "      <td>0.0</td>\n",
       "      <td>1.0</td>\n",
       "      <td>0.0</td>\n",
       "      <td>0.0</td>\n",
       "      <td>0.0</td>\n",
       "      <td>...</td>\n",
       "      <td>0.0</td>\n",
       "      <td>0.0</td>\n",
       "      <td>0.0</td>\n",
       "      <td>0.0</td>\n",
       "      <td>0.0</td>\n",
       "      <td>1.0</td>\n",
       "      <td>0.0</td>\n",
       "      <td>0.0</td>\n",
       "      <td>0.0</td>\n",
       "      <td>0.0</td>\n",
       "    </tr>\n",
       "    <tr>\n",
       "      <th>1</th>\n",
       "      <td>Node1</td>\n",
       "      <td>0.0</td>\n",
       "      <td>0.0</td>\n",
       "      <td>0.0</td>\n",
       "      <td>0.0</td>\n",
       "      <td>0.0</td>\n",
       "      <td>1.0</td>\n",
       "      <td>0.0</td>\n",
       "      <td>0.0</td>\n",
       "      <td>0.0</td>\n",
       "      <td>...</td>\n",
       "      <td>0.0</td>\n",
       "      <td>1.0</td>\n",
       "      <td>0.0</td>\n",
       "      <td>1.0</td>\n",
       "      <td>0.0</td>\n",
       "      <td>0.0</td>\n",
       "      <td>1.0</td>\n",
       "      <td>0.0</td>\n",
       "      <td>0.0</td>\n",
       "      <td>0.0</td>\n",
       "    </tr>\n",
       "    <tr>\n",
       "      <th>2</th>\n",
       "      <td>Node2</td>\n",
       "      <td>0.0</td>\n",
       "      <td>0.0</td>\n",
       "      <td>0.0</td>\n",
       "      <td>0.0</td>\n",
       "      <td>1.0</td>\n",
       "      <td>1.0</td>\n",
       "      <td>1.0</td>\n",
       "      <td>0.0</td>\n",
       "      <td>0.0</td>\n",
       "      <td>...</td>\n",
       "      <td>1.0</td>\n",
       "      <td>0.0</td>\n",
       "      <td>0.0</td>\n",
       "      <td>0.0</td>\n",
       "      <td>0.0</td>\n",
       "      <td>0.0</td>\n",
       "      <td>0.0</td>\n",
       "      <td>0.0</td>\n",
       "      <td>0.0</td>\n",
       "      <td>0.0</td>\n",
       "    </tr>\n",
       "    <tr>\n",
       "      <th>3</th>\n",
       "      <td>Node3</td>\n",
       "      <td>0.0</td>\n",
       "      <td>0.0</td>\n",
       "      <td>0.0</td>\n",
       "      <td>0.0</td>\n",
       "      <td>0.0</td>\n",
       "      <td>0.0</td>\n",
       "      <td>0.0</td>\n",
       "      <td>1.0</td>\n",
       "      <td>0.0</td>\n",
       "      <td>...</td>\n",
       "      <td>0.0</td>\n",
       "      <td>0.0</td>\n",
       "      <td>0.0</td>\n",
       "      <td>0.0</td>\n",
       "      <td>0.0</td>\n",
       "      <td>1.0</td>\n",
       "      <td>0.0</td>\n",
       "      <td>0.0</td>\n",
       "      <td>0.0</td>\n",
       "      <td>0.0</td>\n",
       "    </tr>\n",
       "    <tr>\n",
       "      <th>4</th>\n",
       "      <td>Node4</td>\n",
       "      <td>0.0</td>\n",
       "      <td>0.0</td>\n",
       "      <td>1.0</td>\n",
       "      <td>0.0</td>\n",
       "      <td>0.0</td>\n",
       "      <td>0.0</td>\n",
       "      <td>0.0</td>\n",
       "      <td>1.0</td>\n",
       "      <td>1.0</td>\n",
       "      <td>...</td>\n",
       "      <td>1.0</td>\n",
       "      <td>0.0</td>\n",
       "      <td>0.0</td>\n",
       "      <td>0.0</td>\n",
       "      <td>0.0</td>\n",
       "      <td>1.0</td>\n",
       "      <td>0.0</td>\n",
       "      <td>0.0</td>\n",
       "      <td>0.0</td>\n",
       "      <td>0.0</td>\n",
       "    </tr>\n",
       "    <tr>\n",
       "      <th>5</th>\n",
       "      <td>Node5</td>\n",
       "      <td>1.0</td>\n",
       "      <td>1.0</td>\n",
       "      <td>1.0</td>\n",
       "      <td>0.0</td>\n",
       "      <td>0.0</td>\n",
       "      <td>0.0</td>\n",
       "      <td>0.0</td>\n",
       "      <td>0.0</td>\n",
       "      <td>0.0</td>\n",
       "      <td>...</td>\n",
       "      <td>0.0</td>\n",
       "      <td>0.0</td>\n",
       "      <td>0.0</td>\n",
       "      <td>0.0</td>\n",
       "      <td>0.0</td>\n",
       "      <td>0.0</td>\n",
       "      <td>0.0</td>\n",
       "      <td>0.0</td>\n",
       "      <td>1.0</td>\n",
       "      <td>0.0</td>\n",
       "    </tr>\n",
       "    <tr>\n",
       "      <th>6</th>\n",
       "      <td>Node6</td>\n",
       "      <td>0.0</td>\n",
       "      <td>0.0</td>\n",
       "      <td>1.0</td>\n",
       "      <td>0.0</td>\n",
       "      <td>0.0</td>\n",
       "      <td>0.0</td>\n",
       "      <td>0.0</td>\n",
       "      <td>0.0</td>\n",
       "      <td>0.0</td>\n",
       "      <td>...</td>\n",
       "      <td>0.0</td>\n",
       "      <td>0.0</td>\n",
       "      <td>0.0</td>\n",
       "      <td>0.0</td>\n",
       "      <td>0.0</td>\n",
       "      <td>0.0</td>\n",
       "      <td>0.0</td>\n",
       "      <td>1.0</td>\n",
       "      <td>0.0</td>\n",
       "      <td>0.0</td>\n",
       "    </tr>\n",
       "    <tr>\n",
       "      <th>7</th>\n",
       "      <td>Node7</td>\n",
       "      <td>0.0</td>\n",
       "      <td>0.0</td>\n",
       "      <td>0.0</td>\n",
       "      <td>1.0</td>\n",
       "      <td>1.0</td>\n",
       "      <td>0.0</td>\n",
       "      <td>0.0</td>\n",
       "      <td>0.0</td>\n",
       "      <td>0.0</td>\n",
       "      <td>...</td>\n",
       "      <td>1.0</td>\n",
       "      <td>0.0</td>\n",
       "      <td>0.0</td>\n",
       "      <td>0.0</td>\n",
       "      <td>0.0</td>\n",
       "      <td>0.0</td>\n",
       "      <td>0.0</td>\n",
       "      <td>1.0</td>\n",
       "      <td>0.0</td>\n",
       "      <td>0.0</td>\n",
       "    </tr>\n",
       "    <tr>\n",
       "      <th>8</th>\n",
       "      <td>Node8</td>\n",
       "      <td>0.0</td>\n",
       "      <td>0.0</td>\n",
       "      <td>0.0</td>\n",
       "      <td>0.0</td>\n",
       "      <td>1.0</td>\n",
       "      <td>0.0</td>\n",
       "      <td>0.0</td>\n",
       "      <td>0.0</td>\n",
       "      <td>0.0</td>\n",
       "      <td>...</td>\n",
       "      <td>0.0</td>\n",
       "      <td>0.0</td>\n",
       "      <td>0.0</td>\n",
       "      <td>1.0</td>\n",
       "      <td>1.0</td>\n",
       "      <td>0.0</td>\n",
       "      <td>0.0</td>\n",
       "      <td>0.0</td>\n",
       "      <td>0.0</td>\n",
       "      <td>0.0</td>\n",
       "    </tr>\n",
       "    <tr>\n",
       "      <th>9</th>\n",
       "      <td>Node9</td>\n",
       "      <td>0.0</td>\n",
       "      <td>0.0</td>\n",
       "      <td>0.0</td>\n",
       "      <td>0.0</td>\n",
       "      <td>0.0</td>\n",
       "      <td>0.0</td>\n",
       "      <td>0.0</td>\n",
       "      <td>0.0</td>\n",
       "      <td>1.0</td>\n",
       "      <td>...</td>\n",
       "      <td>0.0</td>\n",
       "      <td>0.0</td>\n",
       "      <td>1.0</td>\n",
       "      <td>0.0</td>\n",
       "      <td>0.0</td>\n",
       "      <td>0.0</td>\n",
       "      <td>0.0</td>\n",
       "      <td>0.0</td>\n",
       "      <td>0.0</td>\n",
       "      <td>0.0</td>\n",
       "    </tr>\n",
       "    <tr>\n",
       "      <th>10</th>\n",
       "      <td>Node10</td>\n",
       "      <td>0.0</td>\n",
       "      <td>0.0</td>\n",
       "      <td>1.0</td>\n",
       "      <td>0.0</td>\n",
       "      <td>1.0</td>\n",
       "      <td>0.0</td>\n",
       "      <td>0.0</td>\n",
       "      <td>1.0</td>\n",
       "      <td>0.0</td>\n",
       "      <td>...</td>\n",
       "      <td>0.0</td>\n",
       "      <td>1.0</td>\n",
       "      <td>0.0</td>\n",
       "      <td>0.0</td>\n",
       "      <td>0.0</td>\n",
       "      <td>0.0</td>\n",
       "      <td>0.0</td>\n",
       "      <td>0.0</td>\n",
       "      <td>0.0</td>\n",
       "      <td>0.0</td>\n",
       "    </tr>\n",
       "    <tr>\n",
       "      <th>11</th>\n",
       "      <td>Node11</td>\n",
       "      <td>0.0</td>\n",
       "      <td>1.0</td>\n",
       "      <td>0.0</td>\n",
       "      <td>0.0</td>\n",
       "      <td>0.0</td>\n",
       "      <td>0.0</td>\n",
       "      <td>0.0</td>\n",
       "      <td>0.0</td>\n",
       "      <td>0.0</td>\n",
       "      <td>...</td>\n",
       "      <td>1.0</td>\n",
       "      <td>0.0</td>\n",
       "      <td>0.0</td>\n",
       "      <td>0.0</td>\n",
       "      <td>0.0</td>\n",
       "      <td>0.0</td>\n",
       "      <td>0.0</td>\n",
       "      <td>0.0</td>\n",
       "      <td>0.0</td>\n",
       "      <td>0.0</td>\n",
       "    </tr>\n",
       "    <tr>\n",
       "      <th>12</th>\n",
       "      <td>Node12</td>\n",
       "      <td>0.0</td>\n",
       "      <td>0.0</td>\n",
       "      <td>0.0</td>\n",
       "      <td>0.0</td>\n",
       "      <td>0.0</td>\n",
       "      <td>0.0</td>\n",
       "      <td>0.0</td>\n",
       "      <td>0.0</td>\n",
       "      <td>0.0</td>\n",
       "      <td>...</td>\n",
       "      <td>0.0</td>\n",
       "      <td>0.0</td>\n",
       "      <td>0.0</td>\n",
       "      <td>1.0</td>\n",
       "      <td>0.0</td>\n",
       "      <td>0.0</td>\n",
       "      <td>1.0</td>\n",
       "      <td>0.0</td>\n",
       "      <td>0.0</td>\n",
       "      <td>0.0</td>\n",
       "    </tr>\n",
       "    <tr>\n",
       "      <th>13</th>\n",
       "      <td>Node13</td>\n",
       "      <td>0.0</td>\n",
       "      <td>1.0</td>\n",
       "      <td>0.0</td>\n",
       "      <td>0.0</td>\n",
       "      <td>0.0</td>\n",
       "      <td>0.0</td>\n",
       "      <td>0.0</td>\n",
       "      <td>0.0</td>\n",
       "      <td>1.0</td>\n",
       "      <td>...</td>\n",
       "      <td>0.0</td>\n",
       "      <td>0.0</td>\n",
       "      <td>1.0</td>\n",
       "      <td>0.0</td>\n",
       "      <td>0.0</td>\n",
       "      <td>0.0</td>\n",
       "      <td>0.0</td>\n",
       "      <td>0.0</td>\n",
       "      <td>1.0</td>\n",
       "      <td>0.0</td>\n",
       "    </tr>\n",
       "    <tr>\n",
       "      <th>14</th>\n",
       "      <td>Node14</td>\n",
       "      <td>0.0</td>\n",
       "      <td>0.0</td>\n",
       "      <td>0.0</td>\n",
       "      <td>0.0</td>\n",
       "      <td>0.0</td>\n",
       "      <td>0.0</td>\n",
       "      <td>0.0</td>\n",
       "      <td>0.0</td>\n",
       "      <td>1.0</td>\n",
       "      <td>...</td>\n",
       "      <td>0.0</td>\n",
       "      <td>0.0</td>\n",
       "      <td>0.0</td>\n",
       "      <td>0.0</td>\n",
       "      <td>0.0</td>\n",
       "      <td>0.0</td>\n",
       "      <td>0.0</td>\n",
       "      <td>0.0</td>\n",
       "      <td>0.0</td>\n",
       "      <td>0.0</td>\n",
       "    </tr>\n",
       "    <tr>\n",
       "      <th>15</th>\n",
       "      <td>Node15</td>\n",
       "      <td>1.0</td>\n",
       "      <td>0.0</td>\n",
       "      <td>0.0</td>\n",
       "      <td>1.0</td>\n",
       "      <td>1.0</td>\n",
       "      <td>0.0</td>\n",
       "      <td>0.0</td>\n",
       "      <td>0.0</td>\n",
       "      <td>0.0</td>\n",
       "      <td>...</td>\n",
       "      <td>0.0</td>\n",
       "      <td>0.0</td>\n",
       "      <td>0.0</td>\n",
       "      <td>0.0</td>\n",
       "      <td>0.0</td>\n",
       "      <td>0.0</td>\n",
       "      <td>0.0</td>\n",
       "      <td>0.0</td>\n",
       "      <td>0.0</td>\n",
       "      <td>1.0</td>\n",
       "    </tr>\n",
       "    <tr>\n",
       "      <th>16</th>\n",
       "      <td>Node16</td>\n",
       "      <td>0.0</td>\n",
       "      <td>1.0</td>\n",
       "      <td>0.0</td>\n",
       "      <td>0.0</td>\n",
       "      <td>0.0</td>\n",
       "      <td>0.0</td>\n",
       "      <td>0.0</td>\n",
       "      <td>0.0</td>\n",
       "      <td>0.0</td>\n",
       "      <td>...</td>\n",
       "      <td>0.0</td>\n",
       "      <td>0.0</td>\n",
       "      <td>1.0</td>\n",
       "      <td>0.0</td>\n",
       "      <td>0.0</td>\n",
       "      <td>0.0</td>\n",
       "      <td>0.0</td>\n",
       "      <td>1.0</td>\n",
       "      <td>0.0</td>\n",
       "      <td>0.0</td>\n",
       "    </tr>\n",
       "    <tr>\n",
       "      <th>17</th>\n",
       "      <td>Node17</td>\n",
       "      <td>0.0</td>\n",
       "      <td>0.0</td>\n",
       "      <td>0.0</td>\n",
       "      <td>0.0</td>\n",
       "      <td>0.0</td>\n",
       "      <td>0.0</td>\n",
       "      <td>1.0</td>\n",
       "      <td>1.0</td>\n",
       "      <td>0.0</td>\n",
       "      <td>...</td>\n",
       "      <td>0.0</td>\n",
       "      <td>0.0</td>\n",
       "      <td>0.0</td>\n",
       "      <td>0.0</td>\n",
       "      <td>0.0</td>\n",
       "      <td>0.0</td>\n",
       "      <td>1.0</td>\n",
       "      <td>0.0</td>\n",
       "      <td>1.0</td>\n",
       "      <td>0.0</td>\n",
       "    </tr>\n",
       "    <tr>\n",
       "      <th>18</th>\n",
       "      <td>Node18</td>\n",
       "      <td>0.0</td>\n",
       "      <td>0.0</td>\n",
       "      <td>0.0</td>\n",
       "      <td>0.0</td>\n",
       "      <td>0.0</td>\n",
       "      <td>1.0</td>\n",
       "      <td>0.0</td>\n",
       "      <td>0.0</td>\n",
       "      <td>0.0</td>\n",
       "      <td>...</td>\n",
       "      <td>0.0</td>\n",
       "      <td>0.0</td>\n",
       "      <td>0.0</td>\n",
       "      <td>1.0</td>\n",
       "      <td>0.0</td>\n",
       "      <td>0.0</td>\n",
       "      <td>0.0</td>\n",
       "      <td>1.0</td>\n",
       "      <td>0.0</td>\n",
       "      <td>0.0</td>\n",
       "    </tr>\n",
       "    <tr>\n",
       "      <th>19</th>\n",
       "      <td>Node19</td>\n",
       "      <td>0.0</td>\n",
       "      <td>0.0</td>\n",
       "      <td>0.0</td>\n",
       "      <td>0.0</td>\n",
       "      <td>0.0</td>\n",
       "      <td>0.0</td>\n",
       "      <td>0.0</td>\n",
       "      <td>0.0</td>\n",
       "      <td>0.0</td>\n",
       "      <td>...</td>\n",
       "      <td>0.0</td>\n",
       "      <td>0.0</td>\n",
       "      <td>0.0</td>\n",
       "      <td>0.0</td>\n",
       "      <td>0.0</td>\n",
       "      <td>1.0</td>\n",
       "      <td>0.0</td>\n",
       "      <td>0.0</td>\n",
       "      <td>0.0</td>\n",
       "      <td>0.0</td>\n",
       "    </tr>\n",
       "  </tbody>\n",
       "</table>\n",
       "<p>20 rows × 21 columns</p>\n",
       "</div>"
      ],
      "text/plain": [
       "   Unnamed: 0  Node0  Node1  Node2  Node3  Node4  Node5  Node6  Node7  Node8  \\\n",
       "0       Node0    0.0    0.0    0.0    0.0    0.0    1.0    0.0    0.0    0.0   \n",
       "1       Node1    0.0    0.0    0.0    0.0    0.0    1.0    0.0    0.0    0.0   \n",
       "2       Node2    0.0    0.0    0.0    0.0    1.0    1.0    1.0    0.0    0.0   \n",
       "3       Node3    0.0    0.0    0.0    0.0    0.0    0.0    0.0    1.0    0.0   \n",
       "4       Node4    0.0    0.0    1.0    0.0    0.0    0.0    0.0    1.0    1.0   \n",
       "5       Node5    1.0    1.0    1.0    0.0    0.0    0.0    0.0    0.0    0.0   \n",
       "6       Node6    0.0    0.0    1.0    0.0    0.0    0.0    0.0    0.0    0.0   \n",
       "7       Node7    0.0    0.0    0.0    1.0    1.0    0.0    0.0    0.0    0.0   \n",
       "8       Node8    0.0    0.0    0.0    0.0    1.0    0.0    0.0    0.0    0.0   \n",
       "9       Node9    0.0    0.0    0.0    0.0    0.0    0.0    0.0    0.0    1.0   \n",
       "10     Node10    0.0    0.0    1.0    0.0    1.0    0.0    0.0    1.0    0.0   \n",
       "11     Node11    0.0    1.0    0.0    0.0    0.0    0.0    0.0    0.0    0.0   \n",
       "12     Node12    0.0    0.0    0.0    0.0    0.0    0.0    0.0    0.0    0.0   \n",
       "13     Node13    0.0    1.0    0.0    0.0    0.0    0.0    0.0    0.0    1.0   \n",
       "14     Node14    0.0    0.0    0.0    0.0    0.0    0.0    0.0    0.0    1.0   \n",
       "15     Node15    1.0    0.0    0.0    1.0    1.0    0.0    0.0    0.0    0.0   \n",
       "16     Node16    0.0    1.0    0.0    0.0    0.0    0.0    0.0    0.0    0.0   \n",
       "17     Node17    0.0    0.0    0.0    0.0    0.0    0.0    1.0    1.0    0.0   \n",
       "18     Node18    0.0    0.0    0.0    0.0    0.0    1.0    0.0    0.0    0.0   \n",
       "19     Node19    0.0    0.0    0.0    0.0    0.0    0.0    0.0    0.0    0.0   \n",
       "\n",
       "    ...  Node10  Node11  Node12  Node13  Node14  Node15  Node16  Node17  \\\n",
       "0   ...     0.0     0.0     0.0     0.0     0.0     1.0     0.0     0.0   \n",
       "1   ...     0.0     1.0     0.0     1.0     0.0     0.0     1.0     0.0   \n",
       "2   ...     1.0     0.0     0.0     0.0     0.0     0.0     0.0     0.0   \n",
       "3   ...     0.0     0.0     0.0     0.0     0.0     1.0     0.0     0.0   \n",
       "4   ...     1.0     0.0     0.0     0.0     0.0     1.0     0.0     0.0   \n",
       "5   ...     0.0     0.0     0.0     0.0     0.0     0.0     0.0     0.0   \n",
       "6   ...     0.0     0.0     0.0     0.0     0.0     0.0     0.0     1.0   \n",
       "7   ...     1.0     0.0     0.0     0.0     0.0     0.0     0.0     1.0   \n",
       "8   ...     0.0     0.0     0.0     1.0     1.0     0.0     0.0     0.0   \n",
       "9   ...     0.0     0.0     1.0     0.0     0.0     0.0     0.0     0.0   \n",
       "10  ...     0.0     1.0     0.0     0.0     0.0     0.0     0.0     0.0   \n",
       "11  ...     1.0     0.0     0.0     0.0     0.0     0.0     0.0     0.0   \n",
       "12  ...     0.0     0.0     0.0     1.0     0.0     0.0     1.0     0.0   \n",
       "13  ...     0.0     0.0     1.0     0.0     0.0     0.0     0.0     0.0   \n",
       "14  ...     0.0     0.0     0.0     0.0     0.0     0.0     0.0     0.0   \n",
       "15  ...     0.0     0.0     0.0     0.0     0.0     0.0     0.0     0.0   \n",
       "16  ...     0.0     0.0     1.0     0.0     0.0     0.0     0.0     1.0   \n",
       "17  ...     0.0     0.0     0.0     0.0     0.0     0.0     1.0     0.0   \n",
       "18  ...     0.0     0.0     0.0     1.0     0.0     0.0     0.0     1.0   \n",
       "19  ...     0.0     0.0     0.0     0.0     0.0     1.0     0.0     0.0   \n",
       "\n",
       "    Node18  Node19  \n",
       "0      0.0     0.0  \n",
       "1      0.0     0.0  \n",
       "2      0.0     0.0  \n",
       "3      0.0     0.0  \n",
       "4      0.0     0.0  \n",
       "5      1.0     0.0  \n",
       "6      0.0     0.0  \n",
       "7      0.0     0.0  \n",
       "8      0.0     0.0  \n",
       "9      0.0     0.0  \n",
       "10     0.0     0.0  \n",
       "11     0.0     0.0  \n",
       "12     0.0     0.0  \n",
       "13     1.0     0.0  \n",
       "14     0.0     0.0  \n",
       "15     0.0     1.0  \n",
       "16     0.0     0.0  \n",
       "17     1.0     0.0  \n",
       "18     0.0     0.0  \n",
       "19     0.0     0.0  \n",
       "\n",
       "[20 rows x 21 columns]"
      ]
     },
     "execution_count": 1,
     "metadata": {},
     "output_type": "execute_result"
    }
   ],
   "source": [
    "import pandas as pd\n",
    "\n",
    "df_links = pd.read_csv(\"links.csv\")\n",
    "df_links"
   ]
  },
  {
   "cell_type": "code",
   "execution_count": 3,
   "metadata": {},
   "outputs": [
    {
     "data": {
      "image/png": "[encoded data removed]",
      "text/plain": [
       "<Figure size 432x288 with 1 Axes>"
      ]
     },
     "metadata": {},
     "output_type": "display_data"
    }
   ],
   "source": [
    "import networkx as nx\n",
    "import matplotlib.pyplot as plt\n",
    "\n",
    "# グラフオブジェクトの作成\n",
    "G = nx.Graph()\n",
    "\n",
    "# 頂点の設定\n",
    "NUM = len(df_links.index)\n",
    "for i in range(1,NUM+1):\n",
    "    node_no = df_links.columns[i].strip(\"Node\")\n",
    "    G.add_node(str(node_no))\n",
    "\n",
    "# 辺の設定\n",
    "for i in range(NUM):\n",
    "    for j in range(NUM):\n",
    "        node_name = \"Node\" + str(j)\n",
    "        if df_links[node_name].iloc[i]==1:\n",
    "            G.add_edge(str(i),str(j))\n",
    "        \n",
    "# 描画 \n",
    "nx.draw_networkx(G,node_color=\"k\", edge_color=\"k\", font_color=\"w\")\n",
    "plt.show()"
   ]
  },
  {
   "cell_type": "markdown",
   "metadata": {},
   "source": [
    "### ノック72：口コミによる情報伝播の様子を可視化してみよう"
   ]
  },
  {
   "cell_type": "code",
   "execution_count": 4,
   "metadata": {},
   "outputs": [],
   "source": [
    "import numpy as np"
   ]
  },
  {
   "cell_type": "code",
   "execution_count": 5,
   "metadata": {},
   "outputs": [],
   "source": [
    "def determine_link(percent):\n",
    "    rand_val = np.random.rand()\n",
    "    if rand_val<=percent:\n",
    "        return 1\n",
    "    else:\n",
    "        return 0"
   ]
  },
  {
   "cell_type": "code",
   "execution_count": 6,
   "metadata": {},
   "outputs": [],
   "source": [
    "def simulate_percolation(num, list_active, percent_percolation):\n",
    "    for i in range(num):\n",
    "        if list_active[i]==1:\n",
    "            for j in range(num):\n",
    "                node_name = \"Node\" + str(j)\n",
    "                if df_links[node_name].iloc[i]==1:\n",
    "                    if determine_link(percent_percolation)==1:\n",
    "                        list_active[j] = 1\n",
    "    return list_active"
   ]
  },
  {
   "cell_type": "code",
   "execution_count": 7,
   "metadata": {},
   "outputs": [],
   "source": [
    "percent_percolation = 0.1\n",
    "T_NUM = 36\n",
    "NUM = len(df_links.index)\n",
    "list_active = np.zeros(NUM)\n",
    "list_active[0] = 1\n",
    "\n",
    "list_timeSeries = []\n",
    "for t in range(T_NUM):\n",
    "    list_active = simulate_percolation(NUM, list_active, percent_percolation)\n",
    "    list_timeSeries.append(list_active.copy())"
   ]
  },
  {
   "cell_type": "code",
   "execution_count": 8,
   "metadata": {},
   "outputs": [],
   "source": [
    "# アクティブノード可視化 #\n",
    "def active_node_coloring(list_active):\n",
    "    #print(list_timeSeries[t])\n",
    "    list_color = []\n",
    "    for i in range(len(list_timeSeries[t])):\n",
    "        if list_timeSeries[t][i]==1:\n",
    "            list_color.append(\"r\")\n",
    "        else:\n",
    "            list_color.append(\"k\")\n",
    "    #print(len(list_color))\n",
    "    return list_color"
   ]
  },
  {
   "cell_type": "code",
   "execution_count": 9,
   "metadata": {},
   "outputs": [
    {
     "data": {
      "image/png": "[encoded data removed]",
      "text/plain": [
       "<Figure size 432x288 with 1 Axes>"
      ]
     },
     "metadata": {},
     "output_type": "display_data"
    }
   ],
   "source": [
    "# 描画\n",
    "t = 0\n",
    "nx.draw_networkx(G,font_color=\"w\",node_color=active_node_coloring(list_timeSeries[t]))\n",
    "plt.show()"
   ]
  },
  {
   "cell_type": "code",
   "execution_count": 10,
   "metadata": {},
   "outputs": [
    {
     "data": {
      "image/png": "[encoded data removed]",
      "text/plain": [
       "<Figure size 432x288 with 1 Axes>"
      ]
     },
     "metadata": {},
     "output_type": "display_data"
    }
   ],
   "source": [
    "# 描画\n",
    "t = 11\n",
    "nx.draw_networkx(G,font_color=\"w\",node_color=active_node_coloring(list_timeSeries[t]))\n",
    "plt.show()"
   ]
  },
  {
   "cell_type": "code",
   "execution_count": 11,
   "metadata": {},
   "outputs": [
    {
     "data": {
      "image/png": "[encoded data removed]",
      "text/plain": [
       "<Figure size 432x288 with 1 Axes>"
      ]
     },
     "metadata": {},
     "output_type": "display_data"
    }
   ],
   "source": [
    "# 描画\n",
    "t = 35\n",
    "nx.draw_networkx(G,font_color=\"w\",node_color=active_node_coloring(list_timeSeries[t]))\n",
    "plt.show()"
   ]
  },
  {
   "cell_type": "markdown",
   "metadata": {},
   "source": [
    "### ノック73：口コミ数の時系列変化をグラフ化してみよう"
   ]
  },
  {
   "cell_type": "code",
   "execution_count": 12,
   "metadata": {},
   "outputs": [
    {
     "data": {
      "image/png": "[encoded data removed]",
      "text/plain": [
       "<Figure size 432x288 with 1 Axes>"
      ]
     },
     "metadata": {
      "needs_background": "light"
     },
     "output_type": "display_data"
    }
   ],
   "source": [
    "# 時系列グラフを描く\n",
    "list_timeSeries_num = []\n",
    "for i in range(len(list_timeSeries)):\n",
    "    list_timeSeries_num.append(sum(list_timeSeries[i]))\n",
    "\n",
    "plt.plot(list_timeSeries_num)\n",
    "plt.show()"
   ]
  },
  {
   "cell_type": "markdown",
   "metadata": {},
   "source": [
    "### ノック74：会員数の時系列変化をシミュレーションしてみよう"
   ]
  },
  {
   "cell_type": "code",
   "execution_count": 13,
   "metadata": {},
   "outputs": [],
   "source": [
    "def simulate_population(num, list_active, percent_percolation, percent_disapparence,df_links):\n",
    "    # 拡散 #\n",
    "    for i in range(num):\n",
    "        if list_active[i]==1:\n",
    "            for j in range(num):\n",
    "                if df_links.iloc[i][j]==1:\n",
    "                    if determine_link(percent_percolation)==1:\n",
    "                        list_active[j] = 1\n",
    "    # 消滅 #\n",
    "    for i in range(num):\n",
    "        if determine_link(percent_disapparence)==1:\n",
    "            list_active[i] = 0\n",
    "    return list_active"
   ]
  },
  {
   "cell_type": "code",
   "execution_count": 14,
   "metadata": {},
   "outputs": [],
   "source": [
    "percent_percolation = 0.1\n",
    "percent_disapparence = 0.05\n",
    "T_NUM = 100\n",
    "NUM = len(df_links.index)\n",
    "list_active = np.zeros(NUM)\n",
    "list_active[0] = 1\n",
    "\n",
    "list_timeSeries = []\n",
    "for t in range(T_NUM):\n",
    "    list_active = simulate_population(NUM, list_active, percent_percolation, percent_disapparence,df_links)\n",
    "    list_timeSeries.append(list_active.copy())"
   ]
  },
  {
   "cell_type": "code",
   "execution_count": 15,
   "metadata": {},
   "outputs": [
    {
     "data": {
      "image/png": "[encoded data removed]",
      "text/plain": [
       "<Figure size 432x288 with 1 Axes>"
      ]
     },
     "metadata": {
      "needs_background": "light"
     },
     "output_type": "display_data"
    }
   ],
   "source": [
    "# 時系列グラフを描く\n",
    "list_timeSeries_num = []\n",
    "for i in range(len(list_timeSeries)):\n",
    "    list_timeSeries_num.append(sum(list_timeSeries[i]))\n",
    "\n",
    "plt.plot(list_timeSeries_num)\n",
    "plt.show()"
   ]
  },
  {
   "cell_type": "code",
   "execution_count": 16,
   "metadata": {},
   "outputs": [],
   "source": [
    "percent_disapparence = 0.2\n",
    "list_active = np.zeros(NUM)\n",
    "list_active[0] = 1\n",
    "list_timeSeries = []\n",
    "for t in range(T_NUM):\n",
    "    list_active = simulate_population(NUM, list_active, percent_percolation, percent_disapparence,df_links)\n",
    "    list_timeSeries.append(list_active.copy())"
   ]
  },
  {
   "cell_type": "code",
   "execution_count": 17,
   "metadata": {},
   "outputs": [
    {
     "data": {
      "image/png": "[encoded data removed]",
      "text/plain": [
       "<Figure size 432x288 with 1 Axes>"
      ]
     },
     "metadata": {
      "needs_background": "light"
     },
     "output_type": "display_data"
    }
   ],
   "source": [
    "# 時系列グラフを描く\n",
    "list_timeSeries_num = []\n",
    "for i in range(len(list_timeSeries)):\n",
    "    list_timeSeries_num.append(sum(list_timeSeries[i]))\n",
    "\n",
    "plt.plot(list_timeSeries_num)\n",
    "plt.show()"
   ]
  },
  {
   "cell_type": "markdown",
   "metadata": {},
   "source": [
    "### ノック75：パラメータの全体像を相図を見ながら把握しよう"
   ]
  },
  {
   "cell_type": "code",
   "execution_count": null,
   "metadata": {},
   "outputs": [
    {
     "name": "stdout",
     "output_type": "stream",
     "text": [
      "相図計算開始\n"
     ]
    }
   ],
   "source": [
    "# 相図計算\n",
    "print(\"相図計算開始\")\n",
    "T_NUM = 100\n",
    "NUM_PhaseDiagram = 20\n",
    "phaseDiagram = np.zeros((NUM_PhaseDiagram,NUM_PhaseDiagram))\n",
    "for i_p in range(NUM_PhaseDiagram):\n",
    "    for i_d in range(NUM_PhaseDiagram):\n",
    "        percent_percolation = 0.05*i_p\n",
    "        percent_disapparence = 0.05*i_d\n",
    "        list_active = np.zeros(NUM)\n",
    "        list_active[0] = 1\n",
    "        for t in range(T_NUM):\n",
    "            list_active = simulate_population(NUM, list_active, percent_percolation, percent_disapparence,df_links)\n",
    "        phaseDiagram[i_p][i_d] = sum(list_active)\n",
    "print(phaseDiagram)"
   ]
  },
  {
   "cell_type": "code",
   "execution_count": null,
   "metadata": {},
   "outputs": [],
   "source": [
    "# 表示\n",
    "plt.matshow(phaseDiagram)\n",
    "plt.colorbar(shrink=0.8)\n",
    "plt.xlabel('percent_disapparence')\n",
    "plt.ylabel('percent_percolation')\n",
    "plt.xticks(np.arange(0.0, 20.0,5), np.arange(0.0, 1.0, 0.25))\n",
    "plt.yticks(np.arange(0.0, 20.0,5), np.arange(0.0, 1.0, 0.25))\n",
    "plt.tick_params(bottom=False,\n",
    "                left=False,\n",
    "                right=False,\n",
    "                top=False)\n",
    "plt.show()"
   ]
  },
  {
   "cell_type": "markdown",
   "metadata": {},
   "source": [
    "### ノック76：実データを読み込んでみよう"
   ]
  },
  {
   "cell_type": "code",
   "execution_count": null,
   "metadata": {},
   "outputs": [],
   "source": [
    "import pandas as pd\n",
    "\n",
    "df_mem_links = pd.read_csv(\"links_members.csv\")\n",
    "df_mem_info = pd.read_csv(\"info_members.csv\")"
   ]
  },
  {
   "cell_type": "markdown",
   "metadata": {},
   "source": [
    "### ノック77：リンク数の分布を可視化しよう"
   ]
  },
  {
   "cell_type": "code",
   "execution_count": null,
   "metadata": {},
   "outputs": [],
   "source": [
    "NUM = len(df_mem_links.index)\n",
    "array_linkNum = np.zeros(NUM)\n",
    "for i in range(NUM):\n",
    "    array_linkNum[i] = sum(df_mem_links[\"Node\"+str(i)])"
   ]
  },
  {
   "cell_type": "code",
   "execution_count": null,
   "metadata": {},
   "outputs": [],
   "source": [
    "plt.hist(array_linkNum, bins=10,range=(0,250))\n",
    "plt.show()"
   ]
  },
  {
   "cell_type": "markdown",
   "metadata": {},
   "source": [
    "### ノック78：シミュレーションのために実データからパラメータを推定しよう"
   ]
  },
  {
   "cell_type": "code",
   "execution_count": null,
   "metadata": {},
   "outputs": [],
   "source": [
    "NUM = len(df_mem_info.index)\n",
    "T_NUM = len(df_mem_info.columns)-1\n",
    "# 消滅の確率推定 #\n",
    "count_active = 0\n",
    "count_active_to_inactive = 0\n",
    "for t in range(1,T_NUM):\n",
    "    for i in range(NUM):\n",
    "        if (df_mem_info.iloc[i][t]==1):\n",
    "            count_active_to_inactive += 1\n",
    "            if (df_mem_info.iloc[i][t+1]==0):\n",
    "                count_active += 1\n",
    "estimated_percent_disapparence = count_active/count_active_to_inactive"
   ]
  },
  {
   "cell_type": "code",
   "execution_count": null,
   "metadata": {},
   "outputs": [],
   "source": [
    "# 拡散の確率推定 #\n",
    "count_link = 0\n",
    "count_link_to_active = 0\n",
    "count_link_temp = 0\n",
    "for t in range(T_NUM-1):\n",
    "    df_link_t = df_mem_info[df_mem_info[str(t)]==1]\n",
    "    temp_flag_count = np.zeros(NUM)\n",
    "    for i in range(len(df_link_t.index)):\n",
    "        df_link_temp = df_mem_links[df_mem_links[\"Node\"+str(df_link_t.index[i])]==1]\n",
    "        for j in range(len(df_link_temp.index)):\n",
    "            if (df_mem_info.iloc[df_link_temp.index[j]][t]==0):\n",
    "                if (temp_flag_count[df_link_temp.index[j]]==0):\n",
    "                    count_link += 1\n",
    "                if (df_mem_info.iloc[df_link_temp.index[j]][t+1]==1):\n",
    "                    if (temp_flag_count[df_link_temp.index[j]]==0):\n",
    "                        temp_flag_count[df_link_temp.index[j]] = 1 \n",
    "                        count_link_to_active += 1\n",
    "estimated_percent_percolation = count_link_to_active/count_link"
   ]
  },
  {
   "cell_type": "code",
   "execution_count": null,
   "metadata": {},
   "outputs": [],
   "source": [
    "estimated_percent_disapparence"
   ]
  },
  {
   "cell_type": "code",
   "execution_count": null,
   "metadata": {},
   "outputs": [],
   "source": [
    "estimated_percent_percolation"
   ]
  },
  {
   "cell_type": "markdown",
   "metadata": {},
   "source": [
    "### ノック79：実データとシミュレーションを比較しよう"
   ]
  },
  {
   "cell_type": "code",
   "execution_count": null,
   "metadata": {},
   "outputs": [],
   "source": [
    "percent_percolation = 0.025184661323275185\n",
    "percent_disapparence = 0.10147163541419416\n",
    "T_NUM = 24\n",
    "NUM = len(df_mem_links.index)\n",
    "list_active = np.zeros(NUM)\n",
    "list_active[0] = 1\n",
    "list_timeSeries = []\n",
    "for t in range(T_NUM):\n",
    "    list_active = simulate_population(NUM, list_active, percent_percolation, percent_disapparence,df_mem_links)\n",
    "    list_timeSeries.append(list_active.copy())"
   ]
  },
  {
   "cell_type": "code",
   "execution_count": null,
   "metadata": {},
   "outputs": [],
   "source": [
    "list_timeSeries_num = []\n",
    "for i in range(len(list_timeSeries)):\n",
    "    list_timeSeries_num.append(sum(list_timeSeries[i]))"
   ]
  },
  {
   "cell_type": "code",
   "execution_count": null,
   "metadata": {},
   "outputs": [],
   "source": [
    "T_NUM = len(df_mem_info.columns)-1\n",
    "list_timeSeries_num_real = []\n",
    "for t in range(0,T_NUM):\n",
    "    list_timeSeries_num_real.append(len(df_mem_info[df_mem_info[str(t)]==1].index))"
   ]
  },
  {
   "cell_type": "code",
   "execution_count": null,
   "metadata": {},
   "outputs": [],
   "source": [
    "plt.plot(list_timeSeries_num, label = 'simulated')\n",
    "plt.plot(list_timeSeries_num_real, label = 'real')\n",
    "plt.xlabel('month')\n",
    "plt.ylabel('population')\n",
    "plt.legend(loc='lower right')\n",
    "plt.show()"
   ]
  },
  {
   "cell_type": "markdown",
   "metadata": {},
   "source": [
    "### ノック80：シミュレーションによる将来予測を実施しよう"
   ]
  },
  {
   "cell_type": "code",
   "execution_count": null,
   "metadata": {},
   "outputs": [],
   "source": [
    "percent_percolation = 0.025184661323275185\n",
    "percent_disapparence = 0.10147163541419416\n",
    "T_NUM = 36\n",
    "NUM = len(df_mem_links.index)\n",
    "list_active = np.zeros(NUM)\n",
    "list_active[0] = 1\n",
    "list_timeSeries = []\n",
    "for t in range(T_NUM):\n",
    "    list_active = simulate_population(NUM, list_active, percent_percolation, percent_disapparence,df_mem_links)\n",
    "    list_timeSeries.append(list_active.copy())"
   ]
  },
  {
   "cell_type": "code",
   "execution_count": null,
   "metadata": {},
   "outputs": [],
   "source": [
    "list_timeSeries_num = []\n",
    "for i in range(len(list_timeSeries)):\n",
    "    list_timeSeries_num.append(sum(list_timeSeries[i]))"
   ]
  },
  {
   "cell_type": "code",
   "execution_count": null,
   "metadata": {},
   "outputs": [],
   "source": [
    "plt.plot(list_timeSeries_num, label = 'simulated')\n",
    "plt.xlabel('month')\n",
    "plt.ylabel('population')\n",
    "plt.legend(loc='lower right')\n",
    "plt.show()"
   ]
  },
  {
   "cell_type": "code",
   "execution_count": null,
   "metadata": {},
   "outputs": [],
   "source": []
  }
 ],
 "metadata": {
  "kernelspec": {
   "display_name": "Python 3",
   "language": "python",
   "name": "python3"
  },
  "language_info": {
   "codemirror_mode": {
    "name": "ipython",
    "version": 3
   },
   "file_extension": ".py",
   "mimetype": "text/x-python",
   "name": "python",
   "nbconvert_exporter": "python",
   "pygments_lexer": "ipython3",
   "version": "3.7.3"
  }
 },
 "nbformat": 4,
 "nbformat_minor": 2
}
