{
 "cells": [
  {
   "cell_type": "code",
   "execution_count": 22,
   "metadata": {},
   "outputs": [],
   "source": [
    "import numpy as np\n",
    "from numpy.random import multivariate_normal, permutation\n",
    "import pandas as pd\n",
    "from pandas import DataFrame\n",
    "import matplotlib.pyplot as plt\n",
    "\n",
    "import tensorflow as tf\n",
    "from tensorflow.keras import layers, models"
   ]
  },
  {
   "cell_type": "code",
   "execution_count": 23,
   "metadata": {},
   "outputs": [],
   "source": [
    "np.random.seed(20200504)\n",
    "tf.random.set_seed(2020504)"
   ]
  },
  {
   "cell_type": "markdown",
   "metadata": {},
   "source": [
    "データの作成\n",
    "- t=0：感染していない\n",
    "- t=1：感染している"
   ]
  },
  {
   "cell_type": "code",
   "execution_count": 24,
   "metadata": {},
   "outputs": [],
   "source": [
    "# 正解ラベル t が 0のデータ\n",
    "n0, mu0, variance0 = 20, [10, 11], 20\n",
    "data0 = multivariate_normal(mu0, np.eye(2)*variance0, n0)\n",
    "df0 = DataFrame(data0, columns=[\"x1\", \"x2\"])\n",
    "df0[\"t\"] = 0\n",
    "\n",
    "# 正解ラベルt が 1のデータ\n",
    "n1, mu1, variance1 = 15, [18, 20], 22\n",
    "data1 = multivariate_normal(mu1, np.eye(2)*variance1, n1)\n",
    "df1 = DataFrame(data1, columns=[\"x1\", \"x2\"])\n",
    "df1[\"t\"] = 1\n",
    "\n",
    "# 正解ラベル0のデータと1のデータをくっつけて、行の順番をランダムにシャッフル\n",
    "df = pd.concat([df0, df1], ignore_index=True)\n",
    "train_set = df.reindex(permutation(df.index)).reset_index(drop=True)"
   ]
  },
  {
   "cell_type": "code",
   "execution_count": 25,
   "metadata": {},
   "outputs": [],
   "source": [
    "train_x = train_set[[\"x1\", \"x2\"]].values\n",
    "train_t = train_set[\"t\"].values"
   ]
  },
  {
   "cell_type": "code",
   "execution_count": 26,
   "metadata": {},
   "outputs": [
    {
     "data": {
      "text/plain": [
       "array([[24.62393022, 21.54217192],\n",
       "       [ 7.4609554 , 21.17347887],\n",
       "       [18.25757014, 24.98102524],\n",
       "       [ 7.84580146, 10.33397879],\n",
       "       [ 6.89418482,  9.9074356 ],\n",
       "       [-5.17678851, 12.16579277],\n",
       "       [ 9.68183271,  9.54602348],\n",
       "       [17.81726146, 19.07836159],\n",
       "       [20.02262396, 20.32027176],\n",
       "       [23.98373709, 13.9016167 ],\n",
       "       [21.57321811,  5.59438725],\n",
       "       [ 5.77275446,  9.19951884],\n",
       "       [ 0.55795748,  7.00716699],\n",
       "       [17.94153424, 26.77886524],\n",
       "       [14.02881335,  6.4184017 ],\n",
       "       [ 3.87641902,  9.0539181 ],\n",
       "       [16.8402645 , 15.97430067],\n",
       "       [ 6.07794736, 14.65396461],\n",
       "       [17.74657835,  9.25786854],\n",
       "       [13.0230664 , 14.49674795],\n",
       "       [12.85117909, 20.48381963],\n",
       "       [17.11467698, 17.79661476],\n",
       "       [ 4.53341454, 14.22831918],\n",
       "       [10.82260172, 13.36956518],\n",
       "       [ 9.88746226, 11.546411  ],\n",
       "       [ 5.55457017, 14.01606177],\n",
       "       [13.72254715, 11.47085806],\n",
       "       [13.95195448,  6.14304312],\n",
       "       [14.20304485, 10.37343713],\n",
       "       [16.1298361 , 20.6296744 ],\n",
       "       [15.7372976 , 18.78196943],\n",
       "       [11.03759308, 19.49481274],\n",
       "       [14.55617559, 17.72925226],\n",
       "       [19.67009018, 15.2721844 ],\n",
       "       [ 8.37881015,  6.05847348]])"
      ]
     },
     "execution_count": 26,
     "metadata": {},
     "output_type": "execute_result"
    }
   ],
   "source": [
    "train_x"
   ]
  },
  {
   "cell_type": "code",
   "execution_count": 27,
   "metadata": {},
   "outputs": [
    {
     "data": {
      "text/plain": [
       "array([1, 1, 1, 0, 0, 0, 0, 1, 1, 1, 1, 0, 0, 1, 0, 0, 1, 0, 0, 0, 1, 1,\n",
       "       0, 0, 0, 0, 0, 0, 0, 1, 1, 0, 1, 1, 0])"
      ]
     },
     "execution_count": 27,
     "metadata": {},
     "output_type": "execute_result"
    }
   ],
   "source": [
    "train_t"
   ]
  },
  {
   "cell_type": "code",
   "execution_count": 40,
   "metadata": {},
   "outputs": [
    {
     "name": "stdout",
     "output_type": "stream",
     "text": [
      "Model: \"sequential_4\"\n",
      "_________________________________________________________________\n",
      "Layer (type)                 Output Shape              Param #   \n",
      "=================================================================\n",
      "logistic_regression (Dense)  (None, 1)                 3         \n",
      "=================================================================\n",
      "Total params: 3\n",
      "Trainable params: 3\n",
      "Non-trainable params: 0\n",
      "_________________________________________________________________\n"
     ]
    }
   ],
   "source": [
    "model = models.Sequential()\n",
    "model.add(layers.Dense(1, activation='sigmoid', input_shape=(2,),\n",
    "                       name='logistic_regression'))\n",
    "\n",
    "model.summary()"
   ]
  },
  {
   "cell_type": "code",
   "execution_count": 41,
   "metadata": {},
   "outputs": [],
   "source": [
    "model.compile(optimizer=\"adam\", \\\n",
    "             loss=\"binary_crossentropy\", \\\n",
    "             metrics=[\"acc\"])"
   ]
  },
  {
   "cell_type": "code",
   "execution_count": 42,
   "metadata": {
    "scrolled": true
   },
   "outputs": [],
   "source": [
    "history = model.fit(train_x, train_t, \\\n",
    "                   batch_size=len(train_x), epochs=5000, verbose=0)"
   ]
  },
  {
   "cell_type": "code",
   "execution_count": 43,
   "metadata": {},
   "outputs": [
    {
     "data": {
      "text/plain": [
       "<matplotlib.axes._subplots.AxesSubplot at 0x148ae8080>"
      ]
     },
     "execution_count": 43,
     "metadata": {},
     "output_type": "execute_result"
    },
    {
     "data": {
      "image/png": "[encoded data removed]",
      "text/plain": [
       "<Figure size 432x288 with 1 Axes>"
      ]
     },
     "metadata": {
      "needs_background": "light"
     },
     "output_type": "display_data"
    },
    {
     "data": {
      "image/png": "[encoded data removed]",
      "text/plain": [
       "<Figure size 432x288 with 1 Axes>"
      ]
     },
     "metadata": {
      "needs_background": "light"
     },
     "output_type": "display_data"
    }
   ],
   "source": [
    "DataFrame({\"acc\": history.history[\"acc\"]}).plot()\n",
    "DataFrame({\"loss\": history.history[\"loss\"]}).plot()"
   ]
  },
  {
   "cell_type": "code",
   "execution_count": 44,
   "metadata": {},
   "outputs": [
    {
     "data": {
      "text/plain": [
       "[array([[0.13364324],\n",
       "        [0.09317703]], dtype=float32), array([-3.044204], dtype=float32)]"
      ]
     },
     "execution_count": 44,
     "metadata": {},
     "output_type": "execute_result"
    }
   ],
   "source": [
    "model.get_weights()"
   ]
  },
  {
   "cell_type": "code",
   "execution_count": 46,
   "metadata": {},
   "outputs": [],
   "source": [
    "[[w1], [w2]], [b] = model.get_weights()"
   ]
  },
  {
   "cell_type": "code",
   "execution_count": 47,
   "metadata": {},
   "outputs": [],
   "source": [
    "train_set0 = train_set[train_set[\"t\"]==0]\n",
    "train_set1 = train_set[train_set[\"t\"]==1]"
   ]
  },
  {
   "cell_type": "code",
   "execution_count": 49,
   "metadata": {},
   "outputs": [
    {
     "data": {
      "text/plain": [
       "<matplotlib.image.AxesImage at 0x148e73208>"
      ]
     },
     "execution_count": 49,
     "metadata": {},
     "output_type": "execute_result"
    },
    {
     "data": {
      "image/png": "[encoded data removed]",
      "text/plain": [
       "<Figure size 504x504 with 1 Axes>"
      ]
     },
     "metadata": {
      "needs_background": "light"
     },
     "output_type": "display_data"
    }
   ],
   "source": [
    "fig = plt.figure(figsize=(7, 7))\n",
    "subplot = fig.add_subplot(1, 1, 1)\n",
    "subplot.set_ylim([0, 30])\n",
    "subplot.set_xlim([0, 30])\n",
    "subplot.scatter(train_set1.x1, train_set1.x2, marker=\"x\")\n",
    "subplot.scatter(train_set0.x1, train_set0.x2, marker=\"o\")\n",
    "\n",
    "xs = np.linspace(0, 30, 10)\n",
    "ys = - (w1*xs/w2 + b/w2)\n",
    "subplot.plot(xs, ys)\n",
    "\n",
    "field = [[(1 / (1 + np.exp(-(w1*x1 + w2*x2 + b))))\n",
    "         for x1 in np.linspace(0, 30, 100)]\n",
    "        for x2 in np.linspace(0, 30, 100)]\n",
    "subplot.imshow(field, origin=\"lower\", extent=(0, 30, 0, 30),\n",
    "              vmin=0, vmax=1, cmap=plt.cm.gray_r, alpha=0.5)"
   ]
  },
  {
   "cell_type": "code",
   "execution_count": 50,
   "metadata": {},
   "outputs": [],
   "source": [
    "n0, mu0, variance0 = 800, [10, 11], 20\n",
    "data0 = multivariate_normal(mu0, np.eye(2)*variance0 ,n0)\n",
    "df0 = DataFrame(data0, columns=['x1', 'x2'])\n",
    "df0['t'] = 0\n",
    "\n",
    "n1, mu1, variance1 = 600, [18, 20], 22\n",
    "data1 = multivariate_normal(mu1, np.eye(2)*variance1 ,n1)\n",
    "df1 = DataFrame(data1, columns=['x1', 'x2'])\n",
    "df1['t'] = 1\n",
    "\n",
    "df = pd.concat([df0, df1], ignore_index=True)\n",
    "df = df.reindex(permutation(df.index)).reset_index(drop=True)\n",
    "\n",
    "num_data = int(len(df)*0.8)\n",
    "train_set = df[:num_data]\n",
    "test_set = df[num_data:]"
   ]
  },
  {
   "cell_type": "code",
   "execution_count": 51,
   "metadata": {},
   "outputs": [],
   "source": [
    "train_x = train_set[['x1', 'x2']].values\n",
    "train_t = train_set['t'].values\n",
    "test_x = test_set[['x1', 'x2']].values\n",
    "test_t = test_set['t'].values"
   ]
  },
  {
   "cell_type": "code",
   "execution_count": 52,
   "metadata": {},
   "outputs": [
    {
     "name": "stdout",
     "output_type": "stream",
     "text": [
      "Model: \"sequential_5\"\n",
      "_________________________________________________________________\n",
      "Layer (type)                 Output Shape              Param #   \n",
      "=================================================================\n",
      "logistic_regression (Dense)  (None, 1)                 3         \n",
      "=================================================================\n",
      "Total params: 3\n",
      "Trainable params: 3\n",
      "Non-trainable params: 0\n",
      "_________________________________________________________________\n"
     ]
    }
   ],
   "source": [
    "model = models.Sequential()\n",
    "model.add(layers.Dense(1, activation='sigmoid', input_shape=(2,),\n",
    "                       name='logistic_regression'))\n",
    "\n",
    "model.summary()"
   ]
  },
  {
   "cell_type": "code",
   "execution_count": 53,
   "metadata": {},
   "outputs": [],
   "source": [
    "model.compile(optimizer='adam', \n",
    "              loss='binary_crossentropy',\n",
    "              metrics=['acc'])"
   ]
  },
  {
   "cell_type": "code",
   "execution_count": 54,
   "metadata": {
    "scrolled": true
   },
   "outputs": [
    {
     "name": "stdout",
     "output_type": "stream",
     "text": [
      "Train on 1120 samples, validate on 280 samples\n",
      "Epoch 1/10\n",
      "1120/1120 [==============================] - 0s 327us/sample - loss: 4.8421 - acc: 0.4420 - val_loss: 4.9108 - val_acc: 0.4821\n",
      "Epoch 2/10\n",
      "1120/1120 [==============================] - 0s 8us/sample - loss: 4.8300 - acc: 0.4437 - val_loss: 4.8990 - val_acc: 0.4821\n",
      "Epoch 3/10\n",
      "1120/1120 [==============================] - 0s 9us/sample - loss: 4.8178 - acc: 0.4437 - val_loss: 4.8871 - val_acc: 0.4821\n",
      "Epoch 4/10\n",
      "1120/1120 [==============================] - 0s 9us/sample - loss: 4.8056 - acc: 0.4437 - val_loss: 4.8753 - val_acc: 0.4821\n",
      "Epoch 5/10\n",
      "1120/1120 [==============================] - 0s 10us/sample - loss: 4.7935 - acc: 0.4446 - val_loss: 4.8634 - val_acc: 0.4821\n",
      "Epoch 6/10\n",
      "1120/1120 [==============================] - 0s 11us/sample - loss: 4.7813 - acc: 0.4446 - val_loss: 4.8516 - val_acc: 0.4821\n",
      "Epoch 7/10\n",
      "1120/1120 [==============================] - 0s 11us/sample - loss: 4.7692 - acc: 0.4446 - val_loss: 4.8397 - val_acc: 0.4821\n",
      "Epoch 8/10\n",
      "1120/1120 [==============================] - 0s 11us/sample - loss: 4.7570 - acc: 0.4446 - val_loss: 4.8279 - val_acc: 0.4821\n",
      "Epoch 9/10\n",
      "1120/1120 [==============================] - 0s 11us/sample - loss: 4.7449 - acc: 0.4446 - val_loss: 4.8161 - val_acc: 0.4821\n",
      "Epoch 10/10\n",
      "1120/1120 [==============================] - 0s 12us/sample - loss: 4.7328 - acc: 0.4446 - val_loss: 4.8042 - val_acc: 0.4821\n"
     ]
    }
   ],
   "source": [
    "history = model.fit(train_x, train_t,\n",
    "                    validation_data=(test_x, test_t),\n",
    "                    batch_size=len(train_x), epochs=10)"
   ]
  },
  {
   "cell_type": "code",
   "execution_count": 55,
   "metadata": {},
   "outputs": [],
   "source": [
    "history = model.fit(train_x, train_t,\n",
    "                    validation_data=(test_x, test_t),\n",
    "                    batch_size=len(train_x), epochs=5000, verbose=0)"
   ]
  },
  {
   "cell_type": "code",
   "execution_count": 56,
   "metadata": {},
   "outputs": [
    {
     "data": {
      "text/plain": [
       "<matplotlib.axes._subplots.AxesSubplot at 0x147665668>"
      ]
     },
     "execution_count": 56,
     "metadata": {},
     "output_type": "execute_result"
    },
    {
     "data": {
      "image/png": "[encoded data removed]",
      "text/plain": [
       "<Figure size 432x288 with 1 Axes>"
      ]
     },
     "metadata": {
      "needs_background": "light"
     },
     "output_type": "display_data"
    }
   ],
   "source": [
    "DataFrame({'acc': history.history['acc'], \n",
    "           'val_acc': history.history['val_acc']}).plot()"
   ]
  },
  {
   "cell_type": "code",
   "execution_count": null,
   "metadata": {},
   "outputs": [],
   "source": []
  }
 ],
 "metadata": {
  "kernelspec": {
   "display_name": "Python 3",
   "language": "python",
   "name": "python3"
  },
  "language_info": {
   "codemirror_mode": {
    "name": "ipython",
    "version": 3
   },
   "file_extension": ".py",
   "mimetype": "text/x-python",
   "name": "python",
   "nbconvert_exporter": "python",
   "pygments_lexer": "ipython3",
   "version": "3.7.3"
  }
 },
 "nbformat": 4,
 "nbformat_minor": 2
}
